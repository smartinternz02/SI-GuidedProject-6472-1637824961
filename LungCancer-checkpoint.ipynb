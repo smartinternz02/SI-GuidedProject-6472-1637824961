{
 "cells": [
  {
   "cell_type": "code",
   "execution_count": 65,
   "metadata": {},
   "outputs": [
    {
     "data": {
      "text/plain": [
       "'/home/wsuser/work'"
      ]
     },
     "execution_count": 65,
     "metadata": {},
     "output_type": "execute_result"
    }
   ],
   "source": [
    "pwd"
   ]
  },
  {
   "cell_type": "code",
   "execution_count": 66,
   "metadata": {},
   "outputs": [
    {
     "name": "stdout",
     "output_type": "stream",
     "text": [
      "Requirement already satisfied: keras==2.2.4 in /opt/conda/envs/Python-3.8-main/lib/python3.8/site-packages (2.2.4)\n",
      "Requirement already satisfied: pyyaml in /opt/conda/envs/Python-3.8-main/lib/python3.8/site-packages (from keras==2.2.4) (5.4.1)\n",
      "Requirement already satisfied: scipy>=0.14 in /opt/conda/envs/Python-3.8-main/lib/python3.8/site-packages (from keras==2.2.4) (1.4.1)\n",
      "Requirement already satisfied: keras-preprocessing>=1.0.5 in /opt/conda/envs/Python-3.8-main/lib/python3.8/site-packages (from keras==2.2.4) (1.1.2)\n",
      "Requirement already satisfied: numpy>=1.9.1 in /opt/conda/envs/Python-3.8-main/lib/python3.8/site-packages (from keras==2.2.4) (1.19.2)\n",
      "Requirement already satisfied: six>=1.9.0 in /opt/conda/envs/Python-3.8-main/lib/python3.8/site-packages (from keras==2.2.4) (1.15.0)\n",
      "Requirement already satisfied: h5py in /opt/conda/envs/Python-3.8-main/lib/python3.8/site-packages (from keras==2.2.4) (2.10.0)\n",
      "Requirement already satisfied: keras-applications>=1.0.6 in /opt/conda/envs/Python-3.8-main/lib/python3.8/site-packages (from keras==2.2.4) (1.0.8)\n",
      "Requirement already satisfied: tensorflow==2.2.0 in /opt/conda/envs/Python-3.8-main/lib/python3.8/site-packages (2.2.0)\n",
      "Requirement already satisfied: tensorflow-estimator<2.3.0,>=2.2.0 in /opt/conda/envs/Python-3.8-main/lib/python3.8/site-packages (from tensorflow==2.2.0) (2.2.0)\n",
      "Requirement already satisfied: gast==0.3.3 in /opt/conda/envs/Python-3.8-main/lib/python3.8/site-packages (from tensorflow==2.2.0) (0.3.3)\n",
      "Requirement already satisfied: termcolor>=1.1.0 in /opt/conda/envs/Python-3.8-main/lib/python3.8/site-packages (from tensorflow==2.2.0) (1.1.0)\n",
      "Requirement already satisfied: opt-einsum>=2.3.2 in /opt/conda/envs/Python-3.8-main/lib/python3.8/site-packages (from tensorflow==2.2.0) (3.1.0)\n",
      "Requirement already satisfied: absl-py>=0.7.0 in /opt/conda/envs/Python-3.8-main/lib/python3.8/site-packages (from tensorflow==2.2.0) (0.10.0)\n",
      "Requirement already satisfied: six>=1.12.0 in /opt/conda/envs/Python-3.8-main/lib/python3.8/site-packages (from tensorflow==2.2.0) (1.15.0)\n",
      "Requirement already satisfied: wrapt>=1.11.1 in /opt/conda/envs/Python-3.8-main/lib/python3.8/site-packages (from tensorflow==2.2.0) (1.12.1)\n",
      "Requirement already satisfied: astunparse==1.6.3 in /opt/conda/envs/Python-3.8-main/lib/python3.8/site-packages (from tensorflow==2.2.0) (1.6.3)\n",
      "Requirement already satisfied: grpcio>=1.8.6 in /opt/conda/envs/Python-3.8-main/lib/python3.8/site-packages (from tensorflow==2.2.0) (1.35.0)\n",
      "Requirement already satisfied: h5py<2.11.0,>=2.10.0 in /opt/conda/envs/Python-3.8-main/lib/python3.8/site-packages (from tensorflow==2.2.0) (2.10.0)\n",
      "Requirement already satisfied: numpy<2.0,>=1.16.0 in /opt/conda/envs/Python-3.8-main/lib/python3.8/site-packages (from tensorflow==2.2.0) (1.19.2)\n",
      "Requirement already satisfied: wheel>=0.26 in /opt/conda/envs/Python-3.8-main/lib/python3.8/site-packages (from tensorflow==2.2.0) (0.35.1)\n",
      "Requirement already satisfied: scipy==1.4.1 in /opt/conda/envs/Python-3.8-main/lib/python3.8/site-packages (from tensorflow==2.2.0) (1.4.1)\n",
      "Requirement already satisfied: keras-preprocessing>=1.1.0 in /opt/conda/envs/Python-3.8-main/lib/python3.8/site-packages (from tensorflow==2.2.0) (1.1.2)\n",
      "Requirement already satisfied: tensorboard<2.3.0,>=2.2.0 in /opt/conda/envs/Python-3.8-main/lib/python3.8/site-packages (from tensorflow==2.2.0) (2.2.2)\n",
      "Requirement already satisfied: protobuf>=3.8.0 in /opt/conda/envs/Python-3.8-main/lib/python3.8/site-packages (from tensorflow==2.2.0) (3.11.2)\n",
      "Requirement already satisfied: google-pasta>=0.1.8 in /opt/conda/envs/Python-3.8-main/lib/python3.8/site-packages (from tensorflow==2.2.0) (0.2.0)\n",
      "Requirement already satisfied: setuptools in /opt/conda/envs/Python-3.8-main/lib/python3.8/site-packages (from protobuf>=3.8.0->tensorflow==2.2.0) (52.0.0.post20211006)\n",
      "Requirement already satisfied: google-auth<2,>=1.6.3 in /opt/conda/envs/Python-3.8-main/lib/python3.8/site-packages (from tensorboard<2.3.0,>=2.2.0->tensorflow==2.2.0) (1.23.0)\n",
      "Requirement already satisfied: requests<3,>=2.21.0 in /opt/conda/envs/Python-3.8-main/lib/python3.8/site-packages (from tensorboard<2.3.0,>=2.2.0->tensorflow==2.2.0) (2.25.1)\n",
      "Requirement already satisfied: werkzeug>=0.11.15 in /opt/conda/envs/Python-3.8-main/lib/python3.8/site-packages (from tensorboard<2.3.0,>=2.2.0->tensorflow==2.2.0) (2.0.1)\n",
      "Requirement already satisfied: google-auth-oauthlib<0.5,>=0.4.1 in /opt/conda/envs/Python-3.8-main/lib/python3.8/site-packages (from tensorboard<2.3.0,>=2.2.0->tensorflow==2.2.0) (0.4.4)\n",
      "Requirement already satisfied: tensorboard-plugin-wit>=1.6.0 in /opt/conda/envs/Python-3.8-main/lib/python3.8/site-packages (from tensorboard<2.3.0,>=2.2.0->tensorflow==2.2.0) (1.6.0)\n",
      "Requirement already satisfied: markdown>=2.6.8 in /opt/conda/envs/Python-3.8-main/lib/python3.8/site-packages (from tensorboard<2.3.0,>=2.2.0->tensorflow==2.2.0) (3.1.1)\n",
      "Requirement already satisfied: pyasn1-modules>=0.2.1 in /opt/conda/envs/Python-3.8-main/lib/python3.8/site-packages (from google-auth<2,>=1.6.3->tensorboard<2.3.0,>=2.2.0->tensorflow==2.2.0) (0.2.8)\n",
      "Requirement already satisfied: rsa<5,>=3.1.4 in /opt/conda/envs/Python-3.8-main/lib/python3.8/site-packages (from google-auth<2,>=1.6.3->tensorboard<2.3.0,>=2.2.0->tensorflow==2.2.0) (4.7.2)\n",
      "Requirement already satisfied: cachetools<5.0,>=2.0.0 in /opt/conda/envs/Python-3.8-main/lib/python3.8/site-packages (from google-auth<2,>=1.6.3->tensorboard<2.3.0,>=2.2.0->tensorflow==2.2.0) (4.2.2)\n",
      "Requirement already satisfied: requests-oauthlib>=0.7.0 in /opt/conda/envs/Python-3.8-main/lib/python3.8/site-packages (from google-auth-oauthlib<0.5,>=0.4.1->tensorboard<2.3.0,>=2.2.0->tensorflow==2.2.0) (1.3.0)\n",
      "Requirement already satisfied: pyasn1<0.5.0,>=0.4.6 in /opt/conda/envs/Python-3.8-main/lib/python3.8/site-packages (from pyasn1-modules>=0.2.1->google-auth<2,>=1.6.3->tensorboard<2.3.0,>=2.2.0->tensorflow==2.2.0) (0.4.8)\n",
      "Requirement already satisfied: urllib3<1.27,>=1.21.1 in /opt/conda/envs/Python-3.8-main/lib/python3.8/site-packages (from requests<3,>=2.21.0->tensorboard<2.3.0,>=2.2.0->tensorflow==2.2.0) (1.26.6)\n",
      "Requirement already satisfied: chardet<5,>=3.0.2 in /opt/conda/envs/Python-3.8-main/lib/python3.8/site-packages (from requests<3,>=2.21.0->tensorboard<2.3.0,>=2.2.0->tensorflow==2.2.0) (3.0.4)\n",
      "Requirement already satisfied: idna<3,>=2.5 in /opt/conda/envs/Python-3.8-main/lib/python3.8/site-packages (from requests<3,>=2.21.0->tensorboard<2.3.0,>=2.2.0->tensorflow==2.2.0) (2.8)\n",
      "Requirement already satisfied: certifi>=2017.4.17 in /opt/conda/envs/Python-3.8-main/lib/python3.8/site-packages (from requests<3,>=2.21.0->tensorboard<2.3.0,>=2.2.0->tensorflow==2.2.0) (2021.10.8)\n",
      "Requirement already satisfied: oauthlib>=3.0.0 in /opt/conda/envs/Python-3.8-main/lib/python3.8/site-packages (from requests-oauthlib>=0.7.0->google-auth-oauthlib<0.5,>=0.4.1->tensorboard<2.3.0,>=2.2.0->tensorflow==2.2.0) (3.1.1)\n"
     ]
    }
   ],
   "source": [
    "!pip install keras==2.2.4\n",
    "!pip install tensorflow==2.2.0"
   ]
  },
  {
   "cell_type": "code",
   "execution_count": 67,
   "metadata": {},
   "outputs": [],
   "source": [
    "import keras"
   ]
  },
  {
   "cell_type": "code",
   "execution_count": 68,
   "metadata": {},
   "outputs": [],
   "source": [
    "from keras.preprocessing.image import ImageDataGenerator\n",
    "train_datagen = ImageDataGenerator(rescale = 1./255,shear_range = 0.2,zoom_range = 0.2,horizontal_flip = True)\n",
    "test_datagen = ImageDataGenerator(rescale = 1./255)"
   ]
  },
  {
   "cell_type": "code",
   "execution_count": 69,
   "metadata": {},
   "outputs": [],
   "source": [
    "\n",
    "import os, types\n",
    "import pandas as pd\n",
    "from botocore.client import Config\n",
    "import ibm_boto3\n",
    "\n",
    "def __iter__(self): return 0\n",
    "\n",
    "# @hidden_cell\n",
    "# The following code accesses a file in your IBM Cloud Object Storage. It includes your credentials.\n",
    "# You might want to remove those credentials before you share the notebook.\n",
    "\n",
    "if os.environ.get('RUNTIME_ENV_LOCATION_TYPE') == 'external':\n",
    "    endpoint_76c433c76a58483a8f3677fad8346d63 = 'https://s3.us.cloud-object-storage.appdomain.cloud'\n",
    "else:\n",
    "    endpoint_76c433c76a58483a8f3677fad8346d63 = 'https://s3.private.us.cloud-object-storage.appdomain.cloud'\n",
    "\n",
    "client_76c433c76a58483a8f3677fad8346d63 = ibm_boto3.client(service_name='s3',\n",
    "    ibm_api_key_id='7EMSJ9OiL1JDRFlSQwIjHzM9mrAbC5GQmijYNujMiHCW',\n",
    "    ibm_auth_endpoint=\"https://iam.cloud.ibm.com/oidc/token\",\n",
    "    config=Config(signature_version='oauth'),\n",
    "    endpoint_url=endpoint_76c433c76a58483a8f3677fad8346d63)\n",
    "\n",
    "streaming_body_2 = client_76c433c76a58483a8f3677fad8346d63.get_object(Bucket='pathologyimageanalysisforlungcanc-donotdelete-pr-xtm17cdz7jxxff', Key='dataset.zip')['Body']\n",
    "\n",
    "# Your data file was loaded into a botocore.response.StreamingBody object.\n",
    "# Please read the documentation of ibm_boto3 and pandas to learn more about the possibilities to load the data.\n",
    "# ibm_boto3 documentation: https://ibm.github.io/ibm-cos-sdk-python/\n",
    "# pandas documentation: http://pandas.pydata.org/\n"
   ]
  },
  {
   "cell_type": "code",
   "execution_count": 70,
   "metadata": {},
   "outputs": [],
   "source": [
    "from io import BytesIO\n",
    "import zipfile\n",
    "unzip = zipfile.ZipFile(BytesIO(streaming_body_2.read()),'r')\n",
    "file_paths = unzip.namelist()\n",
    "for path in file_paths:\n",
    "    unzip.extract(path)"
   ]
  },
  {
   "cell_type": "code",
   "execution_count": 71,
   "metadata": {},
   "outputs": [
    {
     "data": {
      "text/plain": [
       "'/home/wsuser/work'"
      ]
     },
     "execution_count": 71,
     "metadata": {},
     "output_type": "execute_result"
    }
   ],
   "source": [
    "import os\n",
    "os.getcwd()"
   ]
  },
  {
   "cell_type": "code",
   "execution_count": 72,
   "metadata": {},
   "outputs": [
    {
     "data": {
      "text/plain": [
       "'/home/wsuser/work'"
      ]
     },
     "execution_count": 72,
     "metadata": {},
     "output_type": "execute_result"
    }
   ],
   "source": [
    "pwd"
   ]
  },
  {
   "cell_type": "code",
   "execution_count": 73,
   "metadata": {},
   "outputs": [],
   "source": [
    "import os\n",
    "filename = os.listdir('/home/wsuser/work/dataset/trainset')"
   ]
  },
  {
   "cell_type": "code",
   "execution_count": 74,
   "metadata": {},
   "outputs": [
    {
     "name": "stdout",
     "output_type": "stream",
     "text": [
      "Found 102 images belonging to 2 classes.\n",
      "Found 40 images belonging to 2 classes.\n"
     ]
    }
   ],
   "source": [
    "# applying Image data generator functionality to train and test set\n",
    "x_train = train_datagen.flow_from_directory(\n",
    "    '/home/wsuser/work/dataset/trainset'\n",
    "    ,target_size = (64,64),batch_size = 32 ,\n",
    "    class_mode = 'binary',color_mode=\"grayscale\")\n",
    "x_test = test_datagen.flow_from_directory(\n",
    "    '/home/wsuser/work/dataset/testset',\n",
    "    target_size = (64,64),batch_size = 32 , \n",
    "    class_mode = 'binary',color_mode=\"grayscale\")"
   ]
  },
  {
   "cell_type": "code",
   "execution_count": 75,
   "metadata": {},
   "outputs": [
    {
     "data": {
      "text/plain": [
       "{'Cancer': 0, 'NonCancer': 1}"
      ]
     },
     "execution_count": 75,
     "metadata": {},
     "output_type": "execute_result"
    }
   ],
   "source": [
    "x_train.class_indices"
   ]
  },
  {
   "cell_type": "code",
   "execution_count": 76,
   "metadata": {},
   "outputs": [],
   "source": [
    "datagen=ImageDataGenerator(rescale=1/255.0,validation_split=0.2) #Image data augmentation"
   ]
  },
  {
   "cell_type": "code",
   "execution_count": 77,
   "metadata": {},
   "outputs": [],
   "source": [
    "img_width=64 #setting default image width size \n",
    "img_height=64 #setting default image height size"
   ]
  },
  {
   "cell_type": "code",
   "execution_count": 78,
   "metadata": {},
   "outputs": [
    {
     "name": "stdout",
     "output_type": "stream",
     "text": [
      "Found 83 images belonging to 2 classes.\n"
     ]
    }
   ],
   "source": [
    "train_data_generator=datagen.flow_from_directory(directory='/home/wsuser/work/dataset/trainset',\n",
    "                                                target_size=(img_width,img_height),class_mode=\"binary\",\n",
    "                                                batch_size=16,subset=\"training\")#applying image data agumentation to training data"
   ]
  },
  {
   "cell_type": "code",
   "execution_count": 79,
   "metadata": {},
   "outputs": [
    {
     "name": "stdout",
     "output_type": "stream",
     "text": [
      "Found 19 images belonging to 2 classes.\n"
     ]
    }
   ],
   "source": [
    "validation_data_generator=datagen.flow_from_directory(directory='/home/wsuser/work/dataset/trainset',\n",
    "                                                target_size=(img_width,img_height),class_mode=\"binary\",\n",
    "                                                batch_size=16,subset=\"validation\")#applying image data agumentation to testing data"
   ]
  },
  {
   "cell_type": "code",
   "execution_count": 80,
   "metadata": {},
   "outputs": [
    {
     "data": {
      "text/plain": [
       "{'Cancer': 0, 'NonCancer': 1}"
      ]
     },
     "execution_count": 80,
     "metadata": {},
     "output_type": "execute_result"
    }
   ],
   "source": [
    "train_data_generator.class_indices"
   ]
  },
  {
   "cell_type": "code",
   "execution_count": 81,
   "metadata": {},
   "outputs": [
    {
     "data": {
      "text/plain": [
       "array([0, 0, 0, 0, 0, 0, 0, 0, 0, 0, 0, 0, 0, 0, 0, 0, 0, 0, 0, 0, 0, 0,\n",
       "       0, 0, 0, 0, 0, 0, 0, 0, 0, 0, 0, 0, 0, 0, 0, 0, 0, 0, 1, 1, 1, 1,\n",
       "       1, 1, 1, 1, 1, 1, 1, 1, 1, 1, 1, 1, 1, 1, 1, 1, 1, 1, 1, 1, 1, 1,\n",
       "       1, 1, 1, 1, 1, 1, 1, 1, 1, 1, 1, 1, 1, 1, 1, 1, 1], dtype=int32)"
      ]
     },
     "execution_count": 81,
     "metadata": {},
     "output_type": "execute_result"
    }
   ],
   "source": [
    "train_data_generator.labels #checking the labels"
   ]
  },
  {
   "cell_type": "code",
   "execution_count": 82,
   "metadata": {},
   "outputs": [],
   "source": [
    "from tensorflow.keras.models import Sequential\n",
    "from tensorflow.keras.layers import Dense\n",
    "from tensorflow.keras.layers import Convolution2D\n",
    "from tensorflow.keras.layers import MaxPooling2D\n",
    "from tensorflow.keras.layers import Flatten\n"
   ]
  },
  {
   "cell_type": "code",
   "execution_count": 83,
   "metadata": {},
   "outputs": [],
   "source": [
    "\n",
    "import tensorflow as tf\n",
    "model= Sequential() #our model\n",
    "\n",
    "model.add(Convolution2D(16,(3,3),input_shape=(img_width,img_height,3),activation=\"relu\"))#convolutional layer\n",
    "model.add(MaxPooling2D(2,2)) # Downsamples the input\n",
    "tf.keras.layers.Dropout(0.2) #drop input randomly for preventing from overfitting\n",
    "\n",
    "model.add(Convolution2D(32,(3,3),activation=\"relu\"))\n",
    "model.add(MaxPooling2D(2,2))\n",
    "tf.keras.layers.Dropout(0.3)\n",
    "\n",
    "model.add(Flatten())#flatten the dimension of the image\n",
    "model.add(Dense(64,activation=\"relu\"))#deeply connected neural network layer\n",
    "tf.keras.layers.Dropout(0.5)\n",
    "\n",
    "model.add(Dense(1,activation=\"sigmoid\")) #output layer with one neuron\n"
   ]
  },
  {
   "cell_type": "code",
   "execution_count": 84,
   "metadata": {},
   "outputs": [
    {
     "name": "stdout",
     "output_type": "stream",
     "text": [
      "Model: \"sequential_2\"\n",
      "_________________________________________________________________\n",
      "Layer (type)                 Output Shape              Param #   \n",
      "=================================================================\n",
      "conv2d_3 (Conv2D)            (None, 62, 62, 16)        448       \n",
      "_________________________________________________________________\n",
      "max_pooling2d_3 (MaxPooling2 (None, 31, 31, 16)        0         \n",
      "_________________________________________________________________\n",
      "conv2d_4 (Conv2D)            (None, 29, 29, 32)        4640      \n",
      "_________________________________________________________________\n",
      "max_pooling2d_4 (MaxPooling2 (None, 14, 14, 32)        0         \n",
      "_________________________________________________________________\n",
      "flatten_2 (Flatten)          (None, 6272)              0         \n",
      "_________________________________________________________________\n",
      "dense_6 (Dense)              (None, 64)                401472    \n",
      "_________________________________________________________________\n",
      "dense_7 (Dense)              (None, 1)                 65        \n",
      "=================================================================\n",
      "Total params: 406,625\n",
      "Trainable params: 406,625\n",
      "Non-trainable params: 0\n",
      "_________________________________________________________________\n"
     ]
    }
   ],
   "source": [
    "model.summary()"
   ]
  },
  {
   "cell_type": "code",
   "execution_count": 85,
   "metadata": {},
   "outputs": [],
   "source": [
    "model.compile(optimizer='adam', loss='binary_crossentropy', metrics = ['accuracy'])"
   ]
  },
  {
   "cell_type": "code",
   "execution_count": 86,
   "metadata": {},
   "outputs": [
    {
     "name": "stdout",
     "output_type": "stream",
     "text": [
      "Epoch 1/5\n",
      "6/6 [==============================] - 1s 118ms/step - loss: 0.7268 - accuracy: 0.5301 - val_loss: 0.7096 - val_accuracy: 0.4737\n",
      "Epoch 2/5\n",
      "6/6 [==============================] - 1s 97ms/step - loss: 0.6198 - accuracy: 0.6627 - val_loss: 0.7387 - val_accuracy: 0.4737\n",
      "Epoch 3/5\n",
      "6/6 [==============================] - 1s 92ms/step - loss: 0.5478 - accuracy: 0.7108 - val_loss: 0.7177 - val_accuracy: 0.5263\n",
      "Epoch 4/5\n",
      "6/6 [==============================] - 1s 92ms/step - loss: 0.4436 - accuracy: 0.7952 - val_loss: 0.7589 - val_accuracy: 0.5789\n",
      "Epoch 5/5\n",
      "6/6 [==============================] - 1s 92ms/step - loss: 0.3478 - accuracy: 0.8554 - val_loss: 0.7578 - val_accuracy: 0.4737\n"
     ]
    }
   ],
   "source": [
    "history = model.fit_generator(generator=train_data_generator,\n",
    "                              steps_per_epoch = len(train_data_generator),\n",
    "                              epochs = 5,\n",
    "                              validation_data = validation_data_generator,\n",
    "                              validation_steps = len(validation_data_generator))"
   ]
  },
  {
   "cell_type": "code",
   "execution_count": 87,
   "metadata": {},
   "outputs": [],
   "source": [
    "#from tensorflow.keras.models import Sequential\n",
    "model = Sequential()"
   ]
  },
  {
   "cell_type": "code",
   "execution_count": 88,
   "metadata": {},
   "outputs": [],
   "source": [
    "model.add(Convolution2D(32,(3,3),input_shape=(64,64,1),activation='relu'))"
   ]
  },
  {
   "cell_type": "code",
   "execution_count": 89,
   "metadata": {},
   "outputs": [],
   "source": [
    "model.add(MaxPooling2D(pool_size = (2,2)))"
   ]
  },
  {
   "cell_type": "code",
   "execution_count": 90,
   "metadata": {},
   "outputs": [],
   "source": [
    "model.add(Flatten())"
   ]
  },
  {
   "cell_type": "code",
   "execution_count": 91,
   "metadata": {},
   "outputs": [],
   "source": [
    "model.add(Dense(kernel_initializer=\"uniform\",activation = \"relu\",units=300))\n"
   ]
  },
  {
   "cell_type": "code",
   "execution_count": 92,
   "metadata": {},
   "outputs": [],
   "source": [
    "model.add(Dense(kernel_initializer=\"uniform\",activation = \"relu\",units=100))\n"
   ]
  },
  {
   "cell_type": "code",
   "execution_count": 93,
   "metadata": {},
   "outputs": [],
   "source": [
    "model.add(Dense(kernel_initializer=\"uniform\",activation = \"relu\",units=60))"
   ]
  },
  {
   "cell_type": "code",
   "execution_count": 94,
   "metadata": {},
   "outputs": [],
   "source": [
    "model.add(Dense(units = 1,kernel_initializer = \"random_uniform\",activation = \"sigmoid\"))"
   ]
  },
  {
   "cell_type": "code",
   "execution_count": 95,
   "metadata": {},
   "outputs": [],
   "source": [
    "model.compile(loss = \"binary_crossentropy\",optimizer = \"adam\",metrics = [\"accuracy\"])"
   ]
  },
  {
   "cell_type": "code",
   "execution_count": 96,
   "metadata": {},
   "outputs": [
    {
     "name": "stdout",
     "output_type": "stream",
     "text": [
      "Epoch 1/100\n",
      "4/4 [==============================] - 1s 241ms/step - loss: 0.6937 - accuracy: 0.4412 - val_loss: 0.6876 - val_accuracy: 0.5000\n",
      "Epoch 2/100\n",
      "4/4 [==============================] - 1s 245ms/step - loss: 0.6862 - accuracy: 0.4804 - val_loss: 0.6765 - val_accuracy: 0.5000\n",
      "Epoch 3/100\n",
      "4/4 [==============================] - 1s 256ms/step - loss: 0.6874 - accuracy: 0.4804 - val_loss: 0.6584 - val_accuracy: 0.5000\n",
      "Epoch 4/100\n",
      "4/4 [==============================] - 1s 230ms/step - loss: 0.6683 - accuracy: 0.5098 - val_loss: 0.6494 - val_accuracy: 0.6750\n",
      "Epoch 5/100\n",
      "4/4 [==============================] - 1s 245ms/step - loss: 0.6625 - accuracy: 0.6373 - val_loss: 0.6270 - val_accuracy: 0.7250\n",
      "Epoch 6/100\n",
      "4/4 [==============================] - 1s 231ms/step - loss: 0.6367 - accuracy: 0.6765 - val_loss: 0.5931 - val_accuracy: 0.6250\n",
      "Epoch 7/100\n",
      "4/4 [==============================] - 1s 280ms/step - loss: 0.7011 - accuracy: 0.5490 - val_loss: 0.5468 - val_accuracy: 0.7500\n",
      "Epoch 8/100\n",
      "4/4 [==============================] - 1s 230ms/step - loss: 0.6551 - accuracy: 0.6373 - val_loss: 0.6654 - val_accuracy: 0.6000\n",
      "Epoch 9/100\n",
      "4/4 [==============================] - 1s 236ms/step - loss: 0.6391 - accuracy: 0.6961 - val_loss: 0.5807 - val_accuracy: 0.8000\n",
      "Epoch 10/100\n",
      "4/4 [==============================] - 1s 250ms/step - loss: 0.6191 - accuracy: 0.6569 - val_loss: 0.5532 - val_accuracy: 0.7500\n",
      "Epoch 11/100\n",
      "4/4 [==============================] - 1s 225ms/step - loss: 0.6103 - accuracy: 0.6667 - val_loss: 0.5455 - val_accuracy: 0.7250\n",
      "Epoch 12/100\n",
      "4/4 [==============================] - 1s 230ms/step - loss: 0.5703 - accuracy: 0.7255 - val_loss: 0.5450 - val_accuracy: 0.8000\n",
      "Epoch 13/100\n",
      "4/4 [==============================] - 1s 225ms/step - loss: 0.5878 - accuracy: 0.7353 - val_loss: 0.5328 - val_accuracy: 0.8000\n",
      "Epoch 14/100\n",
      "4/4 [==============================] - 1s 231ms/step - loss: 0.5094 - accuracy: 0.7647 - val_loss: 0.4461 - val_accuracy: 0.7500\n",
      "Epoch 15/100\n",
      "4/4 [==============================] - 1s 237ms/step - loss: 0.5193 - accuracy: 0.7059 - val_loss: 0.4604 - val_accuracy: 0.8500\n",
      "Epoch 16/100\n",
      "4/4 [==============================] - 1s 220ms/step - loss: 0.4872 - accuracy: 0.8039 - val_loss: 0.5445 - val_accuracy: 0.8500\n",
      "Epoch 17/100\n",
      "4/4 [==============================] - 1s 220ms/step - loss: 0.5152 - accuracy: 0.7451 - val_loss: 0.4708 - val_accuracy: 0.8750\n",
      "Epoch 18/100\n",
      "4/4 [==============================] - 1s 235ms/step - loss: 0.4270 - accuracy: 0.7941 - val_loss: 0.3770 - val_accuracy: 0.8500\n",
      "Epoch 19/100\n",
      "4/4 [==============================] - 1s 221ms/step - loss: 0.4483 - accuracy: 0.8039 - val_loss: 0.3635 - val_accuracy: 0.8750\n",
      "Epoch 20/100\n",
      "4/4 [==============================] - 1s 221ms/step - loss: 0.3520 - accuracy: 0.8529 - val_loss: 0.2941 - val_accuracy: 0.9000\n",
      "Epoch 21/100\n",
      "4/4 [==============================] - 1s 249ms/step - loss: 0.3598 - accuracy: 0.8431 - val_loss: 0.4278 - val_accuracy: 0.8500\n",
      "Epoch 22/100\n",
      "4/4 [==============================] - 1s 217ms/step - loss: 0.2991 - accuracy: 0.8431 - val_loss: 0.3409 - val_accuracy: 0.9250\n",
      "Epoch 23/100\n",
      "4/4 [==============================] - 1s 254ms/step - loss: 0.3766 - accuracy: 0.8333 - val_loss: 0.2831 - val_accuracy: 0.9250\n",
      "Epoch 24/100\n",
      "4/4 [==============================] - 1s 240ms/step - loss: 0.3054 - accuracy: 0.8725 - val_loss: 0.2378 - val_accuracy: 0.9000\n",
      "Epoch 25/100\n",
      "4/4 [==============================] - 1s 260ms/step - loss: 0.3483 - accuracy: 0.8529 - val_loss: 0.2460 - val_accuracy: 0.9500\n",
      "Epoch 26/100\n",
      "4/4 [==============================] - 1s 229ms/step - loss: 0.2973 - accuracy: 0.8627 - val_loss: 0.3508 - val_accuracy: 0.8750\n",
      "Epoch 27/100\n",
      "4/4 [==============================] - 1s 241ms/step - loss: 0.2321 - accuracy: 0.9216 - val_loss: 0.1700 - val_accuracy: 0.9500\n",
      "Epoch 28/100\n",
      "4/4 [==============================] - 1s 260ms/step - loss: 0.1942 - accuracy: 0.9314 - val_loss: 0.2716 - val_accuracy: 0.9000\n",
      "Epoch 29/100\n",
      "4/4 [==============================] - 1s 249ms/step - loss: 0.2572 - accuracy: 0.8922 - val_loss: 0.1963 - val_accuracy: 0.9750\n",
      "Epoch 30/100\n",
      "4/4 [==============================] - 1s 235ms/step - loss: 0.1697 - accuracy: 0.9412 - val_loss: 0.2262 - val_accuracy: 0.9500\n",
      "Epoch 31/100\n",
      "4/4 [==============================] - 1s 235ms/step - loss: 0.3049 - accuracy: 0.8627 - val_loss: 0.1791 - val_accuracy: 0.9500\n",
      "Epoch 32/100\n",
      "4/4 [==============================] - 1s 226ms/step - loss: 0.2186 - accuracy: 0.9216 - val_loss: 0.1310 - val_accuracy: 0.9750\n",
      "Epoch 33/100\n",
      "4/4 [==============================] - 1s 228ms/step - loss: 0.1868 - accuracy: 0.9412 - val_loss: 0.1926 - val_accuracy: 0.9500\n",
      "Epoch 34/100\n",
      "4/4 [==============================] - 1s 211ms/step - loss: 0.1592 - accuracy: 0.9608 - val_loss: 0.1101 - val_accuracy: 0.9500\n",
      "Epoch 35/100\n",
      "4/4 [==============================] - 1s 272ms/step - loss: 0.1980 - accuracy: 0.9216 - val_loss: 0.2141 - val_accuracy: 0.9500\n",
      "Epoch 36/100\n",
      "4/4 [==============================] - 1s 240ms/step - loss: 0.1603 - accuracy: 0.9412 - val_loss: 0.1461 - val_accuracy: 0.9500\n",
      "Epoch 37/100\n",
      "4/4 [==============================] - 1s 251ms/step - loss: 0.1605 - accuracy: 0.9314 - val_loss: 0.0990 - val_accuracy: 0.9750\n",
      "Epoch 38/100\n",
      "4/4 [==============================] - 1s 215ms/step - loss: 0.0878 - accuracy: 0.9608 - val_loss: 0.1520 - val_accuracy: 0.9500\n",
      "Epoch 39/100\n",
      "4/4 [==============================] - 1s 222ms/step - loss: 0.0985 - accuracy: 0.9706 - val_loss: 0.0443 - val_accuracy: 0.9750\n",
      "Epoch 40/100\n",
      "4/4 [==============================] - 1s 220ms/step - loss: 0.0818 - accuracy: 0.9608 - val_loss: 0.0933 - val_accuracy: 0.9500\n",
      "Epoch 41/100\n",
      "4/4 [==============================] - 1s 235ms/step - loss: 0.0524 - accuracy: 0.9804 - val_loss: 0.0408 - val_accuracy: 0.9750\n",
      "Epoch 42/100\n",
      "4/4 [==============================] - 1s 255ms/step - loss: 0.0916 - accuracy: 0.9706 - val_loss: 0.0722 - val_accuracy: 0.9750\n",
      "Epoch 43/100\n",
      "4/4 [==============================] - 1s 236ms/step - loss: 0.0450 - accuracy: 0.9902 - val_loss: 0.0355 - val_accuracy: 0.9750\n",
      "Epoch 44/100\n",
      "4/4 [==============================] - 1s 225ms/step - loss: 0.0507 - accuracy: 0.9804 - val_loss: 0.0540 - val_accuracy: 0.9750\n",
      "Epoch 45/100\n",
      "4/4 [==============================] - 1s 221ms/step - loss: 0.1591 - accuracy: 0.9314 - val_loss: 0.1147 - val_accuracy: 0.9250\n",
      "Epoch 46/100\n",
      "4/4 [==============================] - 1s 240ms/step - loss: 0.1836 - accuracy: 0.9608 - val_loss: 0.1119 - val_accuracy: 0.9500\n",
      "Epoch 47/100\n",
      "4/4 [==============================] - 1s 270ms/step - loss: 0.5858 - accuracy: 0.8529 - val_loss: 0.4093 - val_accuracy: 0.9250\n",
      "Epoch 48/100\n",
      "4/4 [==============================] - 1s 222ms/step - loss: 0.1806 - accuracy: 0.9412 - val_loss: 0.4398 - val_accuracy: 0.8750\n",
      "Epoch 49/100\n",
      "4/4 [==============================] - 1s 234ms/step - loss: 0.2686 - accuracy: 0.8725 - val_loss: 0.0945 - val_accuracy: 0.9750\n",
      "Epoch 50/100\n",
      "4/4 [==============================] - 1s 255ms/step - loss: 0.2072 - accuracy: 0.9412 - val_loss: 0.2794 - val_accuracy: 0.9000\n",
      "Epoch 51/100\n",
      "4/4 [==============================] - 1s 227ms/step - loss: 0.1753 - accuracy: 0.9510 - val_loss: 0.0860 - val_accuracy: 1.0000\n",
      "Epoch 52/100\n",
      "4/4 [==============================] - 1s 260ms/step - loss: 0.1168 - accuracy: 0.9706 - val_loss: 0.0811 - val_accuracy: 0.9750\n",
      "Epoch 53/100\n",
      "4/4 [==============================] - 1s 235ms/step - loss: 0.1340 - accuracy: 0.9510 - val_loss: 0.0683 - val_accuracy: 0.9750\n",
      "Epoch 54/100\n",
      "4/4 [==============================] - 1s 222ms/step - loss: 0.1056 - accuracy: 0.9608 - val_loss: 0.0637 - val_accuracy: 0.9750\n",
      "Epoch 55/100\n",
      "4/4 [==============================] - 1s 221ms/step - loss: 0.0850 - accuracy: 0.9706 - val_loss: 0.0963 - val_accuracy: 0.9750\n",
      "Epoch 56/100\n",
      "4/4 [==============================] - 1s 220ms/step - loss: 0.0793 - accuracy: 0.9804 - val_loss: 0.0667 - val_accuracy: 0.9750\n",
      "Epoch 57/100\n",
      "4/4 [==============================] - 1s 235ms/step - loss: 0.1198 - accuracy: 0.9510 - val_loss: 0.0447 - val_accuracy: 0.9750\n",
      "Epoch 58/100\n",
      "4/4 [==============================] - 1s 225ms/step - loss: 0.0318 - accuracy: 0.9902 - val_loss: 0.0692 - val_accuracy: 0.9750\n",
      "Epoch 59/100\n",
      "4/4 [==============================] - 1s 215ms/step - loss: 0.0437 - accuracy: 0.9902 - val_loss: 0.0682 - val_accuracy: 0.9750\n",
      "Epoch 60/100\n",
      "4/4 [==============================] - 1s 215ms/step - loss: 0.0134 - accuracy: 1.0000 - val_loss: 0.0167 - val_accuracy: 1.0000\n",
      "Epoch 61/100\n",
      "4/4 [==============================] - 1s 250ms/step - loss: 0.0495 - accuracy: 0.9804 - val_loss: 0.0178 - val_accuracy: 1.0000\n",
      "Epoch 62/100\n",
      "4/4 [==============================] - 1s 220ms/step - loss: 0.0580 - accuracy: 0.9706 - val_loss: 0.0673 - val_accuracy: 0.9750\n",
      "Epoch 63/100\n",
      "4/4 [==============================] - 1s 224ms/step - loss: 0.0201 - accuracy: 0.9902 - val_loss: 0.0049 - val_accuracy: 1.0000\n",
      "Epoch 64/100\n",
      "4/4 [==============================] - 1s 235ms/step - loss: 0.0606 - accuracy: 0.9706 - val_loss: 0.0680 - val_accuracy: 0.9750\n",
      "Epoch 65/100\n",
      "4/4 [==============================] - 1s 226ms/step - loss: 0.0633 - accuracy: 0.9804 - val_loss: 0.0351 - val_accuracy: 1.0000\n",
      "Epoch 66/100\n",
      "4/4 [==============================] - 1s 249ms/step - loss: 0.0775 - accuracy: 0.9804 - val_loss: 0.0040 - val_accuracy: 1.0000\n",
      "Epoch 67/100\n",
      "4/4 [==============================] - 1s 240ms/step - loss: 0.0457 - accuracy: 0.9902 - val_loss: 0.0052 - val_accuracy: 1.0000\n",
      "Epoch 68/100\n",
      "4/4 [==============================] - 1s 225ms/step - loss: 0.0268 - accuracy: 0.9902 - val_loss: 0.0037 - val_accuracy: 1.0000\n",
      "Epoch 69/100\n",
      "4/4 [==============================] - 1s 216ms/step - loss: 0.0657 - accuracy: 0.9706 - val_loss: 0.0118 - val_accuracy: 1.0000\n",
      "Epoch 70/100\n",
      "4/4 [==============================] - 1s 269ms/step - loss: 0.0601 - accuracy: 0.9804 - val_loss: 0.0033 - val_accuracy: 1.0000\n",
      "Epoch 71/100\n",
      "4/4 [==============================] - 1s 230ms/step - loss: 0.0666 - accuracy: 0.9804 - val_loss: 0.0089 - val_accuracy: 1.0000\n",
      "Epoch 72/100\n",
      "4/4 [==============================] - 1s 230ms/step - loss: 0.0333 - accuracy: 0.9804 - val_loss: 0.0074 - val_accuracy: 1.0000\n",
      "Epoch 73/100\n",
      "4/4 [==============================] - 1s 235ms/step - loss: 0.0177 - accuracy: 1.0000 - val_loss: 0.0313 - val_accuracy: 0.9750\n",
      "Epoch 74/100\n",
      "4/4 [==============================] - 1s 223ms/step - loss: 0.0294 - accuracy: 0.9902 - val_loss: 0.0065 - val_accuracy: 1.0000\n",
      "Epoch 75/100\n",
      "4/4 [==============================] - 1s 281ms/step - loss: 0.0409 - accuracy: 0.9902 - val_loss: 0.0049 - val_accuracy: 1.0000\n",
      "Epoch 76/100\n",
      "4/4 [==============================] - 1s 235ms/step - loss: 0.0069 - accuracy: 1.0000 - val_loss: 0.0066 - val_accuracy: 1.0000\n",
      "Epoch 77/100\n",
      "4/4 [==============================] - 1s 224ms/step - loss: 0.0123 - accuracy: 1.0000 - val_loss: 0.0021 - val_accuracy: 1.0000\n",
      "Epoch 78/100\n",
      "4/4 [==============================] - 1s 216ms/step - loss: 0.0371 - accuracy: 0.9902 - val_loss: 0.0013 - val_accuracy: 1.0000\n",
      "Epoch 79/100\n",
      "4/4 [==============================] - 1s 226ms/step - loss: 0.0160 - accuracy: 0.9902 - val_loss: 9.6716e-04 - val_accuracy: 1.0000\n",
      "Epoch 80/100\n",
      "4/4 [==============================] - 1s 240ms/step - loss: 0.0101 - accuracy: 1.0000 - val_loss: 0.0023 - val_accuracy: 1.0000\n",
      "Epoch 81/100\n",
      "4/4 [==============================] - 1s 283ms/step - loss: 0.0097 - accuracy: 1.0000 - val_loss: 0.0033 - val_accuracy: 1.0000\n",
      "Epoch 82/100\n",
      "4/4 [==============================] - 1s 239ms/step - loss: 0.0106 - accuracy: 1.0000 - val_loss: 7.8564e-04 - val_accuracy: 1.0000\n",
      "Epoch 83/100\n",
      "4/4 [==============================] - 1s 235ms/step - loss: 0.0285 - accuracy: 0.9902 - val_loss: 0.0014 - val_accuracy: 1.0000\n",
      "Epoch 84/100\n",
      "4/4 [==============================] - 1s 230ms/step - loss: 0.0143 - accuracy: 1.0000 - val_loss: 0.0015 - val_accuracy: 1.0000\n",
      "Epoch 85/100\n",
      "4/4 [==============================] - 1s 262ms/step - loss: 0.0279 - accuracy: 0.9902 - val_loss: 0.0129 - val_accuracy: 1.0000\n",
      "Epoch 86/100\n",
      "4/4 [==============================] - 1s 256ms/step - loss: 0.0264 - accuracy: 0.9902 - val_loss: 0.0236 - val_accuracy: 1.0000\n",
      "Epoch 87/100\n",
      "4/4 [==============================] - 1s 220ms/step - loss: 0.0220 - accuracy: 0.9902 - val_loss: 0.0011 - val_accuracy: 1.0000\n",
      "Epoch 88/100\n",
      "4/4 [==============================] - 1s 217ms/step - loss: 0.0502 - accuracy: 0.9902 - val_loss: 6.5456e-04 - val_accuracy: 1.0000\n",
      "Epoch 89/100\n",
      "4/4 [==============================] - 1s 216ms/step - loss: 0.0040 - accuracy: 1.0000 - val_loss: 0.0013 - val_accuracy: 1.0000\n",
      "Epoch 90/100\n",
      "4/4 [==============================] - 1s 225ms/step - loss: 0.0064 - accuracy: 1.0000 - val_loss: 8.2228e-04 - val_accuracy: 1.0000\n",
      "Epoch 91/100\n",
      "4/4 [==============================] - 1s 225ms/step - loss: 0.0185 - accuracy: 0.9902 - val_loss: 0.0016 - val_accuracy: 1.0000\n",
      "Epoch 92/100\n",
      "4/4 [==============================] - 1s 217ms/step - loss: 0.0053 - accuracy: 1.0000 - val_loss: 0.0067 - val_accuracy: 1.0000\n",
      "Epoch 93/100\n",
      "4/4 [==============================] - 1s 231ms/step - loss: 0.0462 - accuracy: 0.9902 - val_loss: 5.0768e-04 - val_accuracy: 1.0000\n",
      "Epoch 94/100\n",
      "4/4 [==============================] - 1s 220ms/step - loss: 0.0037 - accuracy: 1.0000 - val_loss: 0.0016 - val_accuracy: 1.0000\n",
      "Epoch 95/100\n",
      "4/4 [==============================] - 1s 215ms/step - loss: 0.0086 - accuracy: 1.0000 - val_loss: 9.7649e-04 - val_accuracy: 1.0000\n",
      "Epoch 96/100\n",
      "4/4 [==============================] - 1s 256ms/step - loss: 0.0032 - accuracy: 1.0000 - val_loss: 4.6620e-04 - val_accuracy: 1.0000\n",
      "Epoch 97/100\n",
      "4/4 [==============================] - 1s 222ms/step - loss: 0.0013 - accuracy: 1.0000 - val_loss: 5.4625e-04 - val_accuracy: 1.0000\n",
      "Epoch 98/100\n",
      "4/4 [==============================] - 1s 213ms/step - loss: 0.0047 - accuracy: 1.0000 - val_loss: 7.3564e-04 - val_accuracy: 1.0000\n",
      "Epoch 99/100\n",
      "4/4 [==============================] - 1s 225ms/step - loss: 0.0018 - accuracy: 1.0000 - val_loss: 7.0456e-04 - val_accuracy: 1.0000\n",
      "Epoch 100/100\n",
      "4/4 [==============================] - 1s 266ms/step - loss: 0.0277 - accuracy: 0.9902 - val_loss: 0.0069 - val_accuracy: 1.0000\n"
     ]
    },
    {
     "data": {
      "text/plain": [
       "<tensorflow.python.keras.callbacks.History at 0x7f0932fbcd00>"
      ]
     },
     "execution_count": 96,
     "metadata": {},
     "output_type": "execute_result"
    }
   ],
   "source": [
    "\n",
    "model.fit_generator(x_train , steps_per_epoch=4 , epochs=100 , validation_data = x_test , validation_steps = 2)"
   ]
  },
  {
   "cell_type": "code",
   "execution_count": 97,
   "metadata": {},
   "outputs": [],
   "source": [
    "model.save(\"LungCancer.h5\")"
   ]
  },
  {
   "cell_type": "code",
   "execution_count": 98,
   "metadata": {},
   "outputs": [
    {
     "name": "stdout",
     "output_type": "stream",
     "text": [
      "LungCancer.h5\r\n"
     ]
    }
   ],
   "source": [
    "!tar -zcvf image-classification-model_new.tgz LungCancer.h5"
   ]
  },
  {
   "cell_type": "code",
   "execution_count": 99,
   "metadata": {},
   "outputs": [
    {
     "name": "stdout",
     "output_type": "stream",
     "text": [
      "\u001b[0m\u001b[01;34mdataset\u001b[0m/\r\n",
      "image-classification-model_new.tgz\r\n",
      "LungCancer.h5\r\n",
      "my_model8.tar.gz\r\n"
     ]
    }
   ],
   "source": [
    "ls -1"
   ]
  },
  {
   "cell_type": "code",
   "execution_count": 100,
   "metadata": {},
   "outputs": [
    {
     "name": "stdout",
     "output_type": "stream",
     "text": [
      "Requirement already satisfied: watson-machine-learning-client in /opt/conda/envs/Python-3.8-main/lib/python3.8/site-packages (1.0.391)\n",
      "Requirement already satisfied: urllib3 in /opt/conda/envs/Python-3.8-main/lib/python3.8/site-packages (from watson-machine-learning-client) (1.26.6)\n",
      "Requirement already satisfied: certifi in /opt/conda/envs/Python-3.8-main/lib/python3.8/site-packages (from watson-machine-learning-client) (2021.10.8)\n",
      "Requirement already satisfied: lomond in /opt/conda/envs/Python-3.8-main/lib/python3.8/site-packages (from watson-machine-learning-client) (0.3.3)\n",
      "Requirement already satisfied: boto3 in /opt/conda/envs/Python-3.8-main/lib/python3.8/site-packages (from watson-machine-learning-client) (1.17.46)\n",
      "Requirement already satisfied: requests in /opt/conda/envs/Python-3.8-main/lib/python3.8/site-packages (from watson-machine-learning-client) (2.25.1)\n",
      "Requirement already satisfied: tabulate in /opt/conda/envs/Python-3.8-main/lib/python3.8/site-packages (from watson-machine-learning-client) (0.8.9)\n",
      "Requirement already satisfied: tqdm in /opt/conda/envs/Python-3.8-main/lib/python3.8/site-packages (from watson-machine-learning-client) (4.59.0)\n",
      "Requirement already satisfied: ibm-cos-sdk in /opt/conda/envs/Python-3.8-main/lib/python3.8/site-packages (from watson-machine-learning-client) (2.7.0)\n",
      "Requirement already satisfied: pandas in /opt/conda/envs/Python-3.8-main/lib/python3.8/site-packages (from watson-machine-learning-client) (1.2.4)\n",
      "Requirement already satisfied: jmespath<1.0.0,>=0.7.1 in /opt/conda/envs/Python-3.8-main/lib/python3.8/site-packages (from boto3->watson-machine-learning-client) (0.10.0)\n",
      "Requirement already satisfied: botocore<1.21.0,>=1.20.46 in /opt/conda/envs/Python-3.8-main/lib/python3.8/site-packages (from boto3->watson-machine-learning-client) (1.20.88)\n",
      "Requirement already satisfied: s3transfer<0.4.0,>=0.3.0 in /opt/conda/envs/Python-3.8-main/lib/python3.8/site-packages (from boto3->watson-machine-learning-client) (0.3.6)\n",
      "Requirement already satisfied: python-dateutil<3.0.0,>=2.1 in /opt/conda/envs/Python-3.8-main/lib/python3.8/site-packages (from botocore<1.21.0,>=1.20.46->boto3->watson-machine-learning-client) (2.8.1)\n",
      "Requirement already satisfied: six>=1.5 in /opt/conda/envs/Python-3.8-main/lib/python3.8/site-packages (from python-dateutil<3.0.0,>=2.1->botocore<1.21.0,>=1.20.46->boto3->watson-machine-learning-client) (1.15.0)\n",
      "Requirement already satisfied: ibm-cos-sdk-s3transfer==2.7.0 in /opt/conda/envs/Python-3.8-main/lib/python3.8/site-packages (from ibm-cos-sdk->watson-machine-learning-client) (2.7.0)\n",
      "Requirement already satisfied: ibm-cos-sdk-core==2.7.0 in /opt/conda/envs/Python-3.8-main/lib/python3.8/site-packages (from ibm-cos-sdk->watson-machine-learning-client) (2.7.0)\n",
      "Requirement already satisfied: docutils<0.16,>=0.10 in /opt/conda/envs/Python-3.8-main/lib/python3.8/site-packages (from ibm-cos-sdk-core==2.7.0->ibm-cos-sdk->watson-machine-learning-client) (0.15.2)\n",
      "Requirement already satisfied: chardet<5,>=3.0.2 in /opt/conda/envs/Python-3.8-main/lib/python3.8/site-packages (from requests->watson-machine-learning-client) (3.0.4)\n",
      "Requirement already satisfied: idna<3,>=2.5 in /opt/conda/envs/Python-3.8-main/lib/python3.8/site-packages (from requests->watson-machine-learning-client) (2.8)\n",
      "Requirement already satisfied: pytz>=2017.3 in /opt/conda/envs/Python-3.8-main/lib/python3.8/site-packages (from pandas->watson-machine-learning-client) (2021.1)\n",
      "Requirement already satisfied: numpy>=1.16.5 in /opt/conda/envs/Python-3.8-main/lib/python3.8/site-packages (from pandas->watson-machine-learning-client) (1.19.2)\n"
     ]
    }
   ],
   "source": [
    "!pip install watson-machine-learning-client --upgrade"
   ]
  },
  {
   "cell_type": "code",
   "execution_count": 101,
   "metadata": {},
   "outputs": [],
   "source": [
    "#Replace the credentials that you  got from watson machine learning service\n",
    "from ibm_watson_machine_learning import APIClient\n",
    "wml_credentials={\n",
    "    \"url\":\"https://us-south.ml.cloud.ibm.com\",\n",
    "    \"apikey\":\"5MU7ejrCSoLSnGmiLR0UJX5kHGqhZbDPOgIB0gcwAWmV\"\n",
    "}\n",
    "client=APIClient(wml_credentials)"
   ]
  },
  {
   "cell_type": "code",
   "execution_count": 102,
   "metadata": {},
   "outputs": [],
   "source": [
    "client=APIClient(wml_credentials)"
   ]
  },
  {
   "cell_type": "code",
   "execution_count": 103,
   "metadata": {},
   "outputs": [],
   "source": [
    "def guid_from_space_name(client, space_name):\n",
    "    space=client.spaces.get_details()\n",
    "    #print(space)\n",
    "    return(next(item for item in space['resources'] if item['entity'][\"name\"]==space_name)['metadata']['id'])"
   ]
  },
  {
   "cell_type": "code",
   "execution_count": 104,
   "metadata": {},
   "outputs": [
    {
     "name": "stdout",
     "output_type": "stream",
     "text": [
      "Space UID=20ee6391-d8da-4537-90a3-a461e7a93726\n"
     ]
    }
   ],
   "source": [
    "space_uid=guid_from_space_name(client,'imageclassification')\n",
    "print(\"Space UID=\"+space_uid)"
   ]
  },
  {
   "cell_type": "code",
   "execution_count": 105,
   "metadata": {},
   "outputs": [
    {
     "data": {
      "text/plain": [
       "'SUCCESS'"
      ]
     },
     "execution_count": 105,
     "metadata": {},
     "output_type": "execute_result"
    }
   ],
   "source": [
    "client.set.default_space(space_uid)"
   ]
  },
  {
   "cell_type": "code",
   "execution_count": 106,
   "metadata": {},
   "outputs": [
    {
     "name": "stdout",
     "output_type": "stream",
     "text": [
      "-----------------------------  ------------------------------------  ----\n",
      "NAME                           ASSET_ID                              TYPE\n",
      "default_py3.6                  0062b8c9-8b7d-44a0-a9b9-46c416adcbd9  base\n",
      "pytorch-onnx_1.3-py3.7-edt     069ea134-3346-5748-b513-49120e15d288  base\n",
      "scikit-learn_0.20-py3.6        09c5a1d0-9c1e-4473-a344-eb7b665ff687  base\n",
      "spark-mllib_3.0-scala_2.12     09f4cff0-90a7-5899-b9ed-1ef348aebdee  base\n",
      "ai-function_0.1-py3.6          0cdb0f1e-5376-4f4d-92dd-da3b69aa9bda  base\n",
      "shiny-r3.6                     0e6e79df-875e-4f24-8ae9-62dcc2148306  base\n",
      "tensorflow_2.4-py3.7-horovod   1092590a-307d-563d-9b62-4eb7d64b3f22  base\n",
      "pytorch_1.1-py3.6              10ac12d6-6b30-4ccd-8392-3e922c096a92  base\n",
      "tensorflow_1.15-py3.6-ddl      111e41b3-de2d-5422-a4d6-bf776828c4b7  base\n",
      "scikit-learn_0.22-py3.6        154010fa-5b3b-4ac1-82af-4d5ee5abbc85  base\n",
      "default_r3.6                   1b70aec3-ab34-4b87-8aa0-a4a3c8296a36  base\n",
      "pytorch-onnx_1.3-py3.6         1bc6029a-cc97-56da-b8e0-39c3880dbbe7  base\n",
      "tensorflow_2.1-py3.6           1eb25b84-d6ed-5dde-b6a5-3fbdf1665666  base\n",
      "tensorflow_2.4-py3.8-horovod   217c16f6-178f-56bf-824a-b19f20564c49  base\n",
      "do_py3.8                       295addb5-9ef9-547e-9bf4-92ae3563e720  base\n",
      "autoai-ts_3.8-py3.8            2aa0c932-798f-5ae9-abd6-15e0c2402fb5  base\n",
      "tensorflow_1.15-py3.6          2b73a275-7cbf-420b-a912-eae7f436e0bc  base\n",
      "pytorch_1.2-py3.6              2c8ef57d-2687-4b7d-acce-01f94976dac1  base\n",
      "spark-mllib_2.3                2e51f700-bca0-4b0d-88dc-5c6791338875  base\n",
      "pytorch-onnx_1.1-py3.6-edt     32983cea-3f32-4400-8965-dde874a8d67e  base\n",
      "spark-mllib_3.0-py37           36507ebe-8770-55ba-ab2a-eafe787600e9  base\n",
      "spark-mllib_2.4                390d21f8-e58b-4fac-9c55-d7ceda621326  base\n",
      "xgboost_0.82-py3.6             39e31acd-5f30-41dc-ae44-60233c80306e  base\n",
      "pytorch-onnx_1.2-py3.6-edt     40589d0e-7019-4e28-8daa-fb03b6f4fe12  base\n",
      "default_r36py38                41c247d3-45f8-5a71-b065-8580229facf0  base\n",
      "autoai-obm_3.0                 42b92e18-d9ab-567f-988a-4240ba1ed5f7  base\n",
      "spark-mllib_2.4-r_3.6          49403dff-92e9-4c87-a3d7-a42d0021c095  base\n",
      "xgboost_0.90-py3.6             4ff8d6c2-1343-4c18-85e1-689c965304d3  base\n",
      "pytorch-onnx_1.1-py3.6         50f95b2a-bc16-43bb-bc94-b0bed208c60b  base\n",
      "autoai-ts_3.9-py3.8            52c57136-80fa-572e-8728-a5e7cbb42cde  base\n",
      "spark-mllib_2.4-scala_2.11     55a70f99-7320-4be5-9fb9-9edb5a443af5  base\n",
      "spark-mllib_3.0                5c1b0ca2-4977-5c2e-9439-ffd44ea8ffe9  base\n",
      "autoai-obm_2.0                 5c2e37fa-80b8-5e77-840f-d912469614ee  base\n",
      "spss-modeler_18.1              5c3cad7e-507f-4b2a-a9a3-ab53a21dee8b  base\n",
      "cuda-py3.8                     5d3232bf-c86b-5df4-a2cd-7bb870a1cd4e  base\n",
      "autoai-kb_3.1-py3.7            632d4b22-10aa-5180-88f0-f52dfb6444d7  base\n",
      "pytorch-onnx_1.7-py3.8         634d3cdc-b562-5bf9-a2d4-ea90a478456b  base\n",
      "spark-mllib_2.3-r_3.6          6586b9e3-ccd6-4f92-900f-0f8cb2bd6f0c  base\n",
      "tensorflow_2.4-py3.7           65e171d7-72d1-55d9-8ebb-f813d620c9bb  base\n",
      "spss-modeler_18.2              687eddc9-028a-4117-b9dd-e57b36f1efa5  base\n",
      "pytorch-onnx_1.2-py3.6         692a6a4d-2c4d-45ff-a1ed-b167ee55469a  base\n",
      "do_12.9                        75a3a4b0-6aa0-41b3-a618-48b1f56332a6  base\n",
      "spark-mllib_2.3-scala_2.11     7963efe5-bbec-417e-92cf-0574e21b4e8d  base\n",
      "spark-mllib_2.4-py37           7abc992b-b685-532b-a122-a396a3cdbaab  base\n",
      "caffe_1.0-py3.6                7bb3dbe2-da6e-4145-918d-b6d84aa93b6b  base\n",
      "pytorch-onnx_1.7-py3.7         812c6631-42b7-5613-982b-02098e6c909c  base\n",
      "cuda-py3.6                     82c79ece-4d12-40e6-8787-a7b9e0f62770  base\n",
      "tensorflow_1.15-py3.6-horovod  8964680e-d5e4-5bb8-919b-8342c6c0dfd8  base\n",
      "hybrid_0.1                     8c1a58c6-62b5-4dc4-987a-df751c2756b6  base\n",
      "pytorch-onnx_1.3-py3.7         8d5d8a87-a912-54cf-81ec-3914adaa988d  base\n",
      "-----------------------------  ------------------------------------  ----\n",
      "Note: Only first 50 records were displayed. To display more use 'limit' parameter.\n"
     ]
    }
   ],
   "source": [
    "client.software_specifications.list()"
   ]
  },
  {
   "cell_type": "code",
   "execution_count": 107,
   "metadata": {},
   "outputs": [
    {
     "data": {
      "text/plain": [
       "'0.23.2'"
      ]
     },
     "execution_count": 107,
     "metadata": {},
     "output_type": "execute_result"
    }
   ],
   "source": [
    "import sklearn\n",
    "sklearn.__version__"
   ]
  },
  {
   "cell_type": "code",
   "execution_count": 108,
   "metadata": {},
   "outputs": [
    {
     "data": {
      "text/plain": [
       "'2b73a275-7cbf-420b-a912-eae7f436e0bc'"
      ]
     },
     "execution_count": 108,
     "metadata": {},
     "output_type": "execute_result"
    }
   ],
   "source": [
    "# Set Python Version\n",
    "software_spec_uid = client.software_specifications.get_uid_by_name('tensorflow_1.15-py3.6')\n",
    "software_spec_uid"
   ]
  },
  {
   "cell_type": "code",
   "execution_count": 109,
   "metadata": {},
   "outputs": [
    {
     "name": "stdout",
     "output_type": "stream",
     "text": [
      "Note: Warnings!! :  Model type keras_2.2.4 is deprecated. We recommend you use a supported model type. See Supported Frameworks https://dataplatform.cloud.ibm.com/docs/content/wsj/analyze-data/pm_service_supported_frameworks.html\n"
     ]
    }
   ],
   "source": [
    "model_details = client.repository.store_model(model='image-classification-model_new.tgz',meta_props={\n",
    "    client.repository.ModelMetaNames.NAME:\"CNN\",\n",
    "    client.repository.ModelMetaNames.TYPE:\"keras_2.2.4\",\n",
    "    client.repository.ModelMetaNames.SOFTWARE_SPEC_UID:software_spec_uid\n",
    "})\n",
    "model_id = client.repository.get_model_uid(model_details)"
   ]
  },
  {
   "cell_type": "code",
   "execution_count": 110,
   "metadata": {},
   "outputs": [
    {
     "data": {
      "text/plain": [
       "'d8e0fa6a-9f7a-4f07-b8af-f4fe0b1ac3fd'"
      ]
     },
     "execution_count": 110,
     "metadata": {},
     "output_type": "execute_result"
    }
   ],
   "source": [
    "model_id"
   ]
  },
  {
   "cell_type": "code",
   "execution_count": 112,
   "metadata": {},
   "outputs": [
    {
     "name": "stdout",
     "output_type": "stream",
     "text": [
      "Successfully saved model content to file: 'My_model8.tar.gz'\n"
     ]
    },
    {
     "data": {
      "text/plain": [
       "'/home/wsuser/work/My_model8.tar.gz'"
      ]
     },
     "execution_count": 112,
     "metadata": {},
     "output_type": "execute_result"
    }
   ],
   "source": [
    "client.repository.download(model_id,'My_model8.tar.gz')"
   ]
  },
  {
   "cell_type": "code",
   "execution_count": 113,
   "metadata": {},
   "outputs": [],
   "source": [
    "from tensorflow.keras.models import load_model\n",
    "from tensorflow.keras.preprocessing import image\n",
    "model = load_model('LungCancer.h5') #loading our trained model"
   ]
  },
  {
   "cell_type": "code",
   "execution_count": 114,
   "metadata": {},
   "outputs": [],
   "source": [
    "import cv2\n",
    "data1 =\"/home/wsuser/work/dataset/trainset/ID_0098_AGE_0061_CONTRAST_0_CT_1\"\n",
    "image = cv2.imread(data1)"
   ]
  },
  {
   "cell_type": "code",
   "execution_count": 115,
   "metadata": {},
   "outputs": [
    {
     "data": {
      "text/plain": [
       "'/home/wsuser/work'"
      ]
     },
     "execution_count": 115,
     "metadata": {},
     "output_type": "execute_result"
    }
   ],
   "source": [
    "pwd"
   ]
  },
  {
   "cell_type": "code",
   "execution_count": null,
   "metadata": {},
   "outputs": [],
   "source": []
  },
  {
   "cell_type": "code",
   "execution_count": null,
   "metadata": {},
   "outputs": [],
   "source": []
  }
 ],
 "metadata": {
  "kernelspec": {
   "display_name": "Python 3",
   "language": "python",
   "name": "python3"
  },
  "language_info": {
   "codemirror_mode": {
    "name": "ipython",
    "version": 3
   },
   "file_extension": ".py",
   "mimetype": "text/x-python",
   "name": "python",
   "nbconvert_exporter": "python",
   "pygments_lexer": "ipython3",
   "version": "3.8.5"
  }
 },
 "nbformat": 4,
 "nbformat_minor": 4
}
