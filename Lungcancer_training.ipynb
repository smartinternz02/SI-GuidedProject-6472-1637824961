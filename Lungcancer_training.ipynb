{
 "cells": [
  {
   "cell_type": "code",
   "execution_count": 1,
   "metadata": {},
   "outputs": [],
   "source": [
    "from tensorflow.keras.models import Sequential\n",
    "from tensorflow.keras.layers import Dense\n",
    "from tensorflow.keras.layers import Convolution2D\n",
    "from tensorflow.keras.layers import MaxPooling2D\n",
    "from tensorflow.keras.layers import Flatten\n"
   ]
  },
  {
   "cell_type": "code",
   "execution_count": 2,
   "metadata": {},
   "outputs": [],
   "source": [
    "from keras.preprocessing.image import ImageDataGenerator\n",
    "train_datagen = ImageDataGenerator(rescale = 1./255,shear_range = 0.2,zoom_range = 0.2,horizontal_flip = True)\n",
    "test_datagen = ImageDataGenerator(rescale = 1./255)"
   ]
  },
  {
   "cell_type": "code",
   "execution_count": 3,
   "metadata": {},
   "outputs": [
    {
     "name": "stdout",
     "output_type": "stream",
     "text": [
      "Found 102 images belonging to 2 classes.\n",
      "Found 40 images belonging to 2 classes.\n"
     ]
    }
   ],
   "source": [
    "# applying Image data generator functionality to train and test set\n",
    "x_train = train_datagen.flow_from_directory(\n",
    "    r'C:\\Users\\DELL\\Desktop\\mini po\\final\\Lung-Cancer-Disease-Prediction-main\\Lungcancer\\trainset'\n",
    "    ,target_size = (64,64),batch_size = 32 ,\n",
    "    class_mode = 'binary',color_mode=\"grayscale\")\n",
    "x_test = test_datagen.flow_from_directory(\n",
    "    r'C:\\Users\\DELL\\Desktop\\mini po\\final\\Lung-Cancer-Disease-Prediction-main\\Lungcancer\\testset',\n",
    "    target_size = (64,64),batch_size = 32 , \n",
    "    class_mode = 'binary',color_mode=\"grayscale\")\n"
   ]
  },
  {
   "cell_type": "code",
   "execution_count": 4,
   "metadata": {},
   "outputs": [
    {
     "name": "stdout",
     "output_type": "stream",
     "text": [
      "{'Cancer': 0, 'NonCancer': 1}\n"
     ]
    }
   ],
   "source": [
    "print(x_train.class_indices)"
   ]
  },
  {
   "cell_type": "code",
   "execution_count": 5,
   "metadata": {},
   "outputs": [],
   "source": [
    "model = Sequential()"
   ]
  },
  {
   "cell_type": "code",
   "execution_count": 6,
   "metadata": {},
   "outputs": [],
   "source": [
    "model.add(Convolution2D(32,(3,3), input_shape = (64,64,1),activation = \"relu\"))"
   ]
  },
  {
   "cell_type": "code",
   "execution_count": 7,
   "metadata": {},
   "outputs": [],
   "source": [
    "model.add(MaxPooling2D(pool_size = (2,2)))"
   ]
  },
  {
   "cell_type": "code",
   "execution_count": 8,
   "metadata": {},
   "outputs": [],
   "source": [
    "model.add(Flatten()) # input layer"
   ]
  },
  {
   "cell_type": "code",
   "execution_count": 9,
   "metadata": {},
   "outputs": [],
   "source": [
    "model.add(Dense(units = 128,kernel_initializer = \"random_uniform\",activation = \"relu\")) #hidden layer"
   ]
  },
  {
   "cell_type": "code",
   "execution_count": 10,
   "metadata": {},
   "outputs": [],
   "source": [
    "model.add(Dense(units = 1,kernel_initializer = \"random_uniform\",activation = \"sigmoid\")) #output layer"
   ]
  },
  {
   "cell_type": "code",
   "execution_count": 11,
   "metadata": {},
   "outputs": [],
   "source": [
    "model.compile(loss = \"binary_crossentropy\",optimizer = \"adam\",metrics = [\"accuracy\"])"
   ]
  },
  {
   "cell_type": "code",
   "execution_count": 12,
   "metadata": {},
   "outputs": [
    {
     "name": "stderr",
     "output_type": "stream",
     "text": [
      "F:\\anaconda.com\\lib\\site-packages\\keras\\engine\\training.py:1972: UserWarning: `Model.fit_generator` is deprecated and will be removed in a future version. Please use `Model.fit`, which supports generators.\n",
      "  warnings.warn('`Model.fit_generator` is deprecated and '\n"
     ]
    },
    {
     "name": "stdout",
     "output_type": "stream",
     "text": [
      "Epoch 1/100\n",
      "4/4 [==============================] - 6s 641ms/step - loss: 0.7232 - accuracy: 0.4804 - val_loss: 0.6664 - val_accuracy: 0.6500\n",
      "Epoch 2/100\n",
      "4/4 [==============================] - 1s 168ms/step - loss: 0.6773 - accuracy: 0.5882 - val_loss: 0.6382 - val_accuracy: 0.6750\n",
      "Epoch 3/100\n",
      "4/4 [==============================] - 1s 162ms/step - loss: 0.6177 - accuracy: 0.6667 - val_loss: 0.6270 - val_accuracy: 0.5500\n",
      "Epoch 4/100\n",
      "4/4 [==============================] - 1s 170ms/step - loss: 0.6315 - accuracy: 0.5882 - val_loss: 0.5883 - val_accuracy: 0.6250\n",
      "Epoch 5/100\n",
      "4/4 [==============================] - 1s 171ms/step - loss: 0.5484 - accuracy: 0.7451 - val_loss: 0.5916 - val_accuracy: 0.7500\n",
      "Epoch 6/100\n",
      "4/4 [==============================] - 1s 212ms/step - loss: 0.5939 - accuracy: 0.6961 - val_loss: 0.5314 - val_accuracy: 0.7500\n",
      "Epoch 7/100\n",
      "4/4 [==============================] - 1s 168ms/step - loss: 0.5524 - accuracy: 0.7157 - val_loss: 0.4904 - val_accuracy: 0.7500\n",
      "Epoch 8/100\n",
      "4/4 [==============================] - 1s 213ms/step - loss: 0.5626 - accuracy: 0.6863 - val_loss: 0.4447 - val_accuracy: 0.7250\n",
      "Epoch 9/100\n",
      "4/4 [==============================] - 1s 183ms/step - loss: 0.5663 - accuracy: 0.7353 - val_loss: 0.5660 - val_accuracy: 0.7500\n",
      "Epoch 10/100\n",
      "4/4 [==============================] - 1s 229ms/step - loss: 0.5520 - accuracy: 0.7353 - val_loss: 0.4278 - val_accuracy: 0.8500\n",
      "Epoch 11/100\n",
      "4/4 [==============================] - 1s 186ms/step - loss: 0.4762 - accuracy: 0.8137 - val_loss: 0.4025 - val_accuracy: 0.8750\n",
      "Epoch 12/100\n",
      "4/4 [==============================] - 1s 178ms/step - loss: 0.4726 - accuracy: 0.7843 - val_loss: 0.6348 - val_accuracy: 0.5750\n",
      "Epoch 13/100\n",
      "4/4 [==============================] - 1s 219ms/step - loss: 0.5179 - accuracy: 0.7549 - val_loss: 0.4248 - val_accuracy: 0.8750\n",
      "Epoch 14/100\n",
      "4/4 [==============================] - 1s 195ms/step - loss: 0.4754 - accuracy: 0.7941 - val_loss: 0.3706 - val_accuracy: 0.7750\n",
      "Epoch 15/100\n",
      "4/4 [==============================] - 1s 175ms/step - loss: 0.4650 - accuracy: 0.7843 - val_loss: 0.4408 - val_accuracy: 0.8500\n",
      "Epoch 16/100\n",
      "4/4 [==============================] - 1s 222ms/step - loss: 0.4589 - accuracy: 0.7843 - val_loss: 0.4838 - val_accuracy: 0.8000\n",
      "Epoch 17/100\n",
      "4/4 [==============================] - 1s 225ms/step - loss: 0.4338 - accuracy: 0.7745 - val_loss: 0.3625 - val_accuracy: 0.8750\n",
      "Epoch 18/100\n",
      "4/4 [==============================] - 1s 226ms/step - loss: 0.4012 - accuracy: 0.8431 - val_loss: 0.3438 - val_accuracy: 0.9250\n",
      "Epoch 19/100\n",
      "4/4 [==============================] - 1s 187ms/step - loss: 0.3849 - accuracy: 0.8333 - val_loss: 0.4372 - val_accuracy: 0.8750\n",
      "Epoch 20/100\n",
      "4/4 [==============================] - 1s 186ms/step - loss: 0.4118 - accuracy: 0.8235 - val_loss: 0.4102 - val_accuracy: 0.8750\n",
      "Epoch 21/100\n",
      "4/4 [==============================] - 1s 185ms/step - loss: 0.3856 - accuracy: 0.8529 - val_loss: 0.2941 - val_accuracy: 0.9250\n",
      "Epoch 22/100\n",
      "4/4 [==============================] - 1s 198ms/step - loss: 0.3881 - accuracy: 0.8235 - val_loss: 0.3826 - val_accuracy: 0.8500\n",
      "Epoch 23/100\n",
      "4/4 [==============================] - 1s 205ms/step - loss: 0.4010 - accuracy: 0.7941 - val_loss: 0.3145 - val_accuracy: 0.8750\n",
      "Epoch 24/100\n",
      "4/4 [==============================] - 1s 181ms/step - loss: 0.3963 - accuracy: 0.8529 - val_loss: 0.2559 - val_accuracy: 0.9250\n",
      "Epoch 25/100\n",
      "4/4 [==============================] - 1s 298ms/step - loss: 0.3063 - accuracy: 0.8627 - val_loss: 0.5035 - val_accuracy: 0.7500\n",
      "Epoch 26/100\n",
      "4/4 [==============================] - 1s 187ms/step - loss: 0.4294 - accuracy: 0.8333 - val_loss: 0.2227 - val_accuracy: 0.9500\n",
      "Epoch 27/100\n",
      "4/4 [==============================] - 1s 195ms/step - loss: 0.3694 - accuracy: 0.7745 - val_loss: 0.2291 - val_accuracy: 0.9500\n",
      "Epoch 28/100\n",
      "4/4 [==============================] - 1s 171ms/step - loss: 0.3109 - accuracy: 0.8627 - val_loss: 0.4248 - val_accuracy: 0.8000\n",
      "Epoch 29/100\n",
      "4/4 [==============================] - 1s 165ms/step - loss: 0.3083 - accuracy: 0.8627 - val_loss: 0.2450 - val_accuracy: 0.9250\n",
      "Epoch 30/100\n",
      "4/4 [==============================] - 1s 196ms/step - loss: 0.2986 - accuracy: 0.8824 - val_loss: 0.2566 - val_accuracy: 0.9250\n",
      "Epoch 31/100\n",
      "4/4 [==============================] - 1s 223ms/step - loss: 0.2503 - accuracy: 0.9118 - val_loss: 0.3036 - val_accuracy: 0.8750\n",
      "Epoch 32/100\n",
      "4/4 [==============================] - 1s 178ms/step - loss: 0.2674 - accuracy: 0.9216 - val_loss: 0.2185 - val_accuracy: 0.9500\n",
      "Epoch 33/100\n",
      "4/4 [==============================] - 1s 215ms/step - loss: 0.2432 - accuracy: 0.9412 - val_loss: 0.2593 - val_accuracy: 0.9000\n",
      "Epoch 34/100\n",
      "4/4 [==============================] - 1s 217ms/step - loss: 0.2206 - accuracy: 0.9216 - val_loss: 0.1759 - val_accuracy: 0.9500\n",
      "Epoch 35/100\n",
      "4/4 [==============================] - 1s 226ms/step - loss: 0.2339 - accuracy: 0.9118 - val_loss: 0.1844 - val_accuracy: 0.9750\n",
      "Epoch 36/100\n",
      "4/4 [==============================] - 1s 220ms/step - loss: 0.2657 - accuracy: 0.8922 - val_loss: 0.2471 - val_accuracy: 0.9250\n",
      "Epoch 37/100\n",
      "4/4 [==============================] - 1s 167ms/step - loss: 0.1956 - accuracy: 0.9314 - val_loss: 0.1459 - val_accuracy: 0.9500\n",
      "Epoch 38/100\n",
      "4/4 [==============================] - 1s 222ms/step - loss: 0.1999 - accuracy: 0.9216 - val_loss: 0.2709 - val_accuracy: 0.9000\n",
      "Epoch 39/100\n",
      "4/4 [==============================] - 1s 166ms/step - loss: 0.2198 - accuracy: 0.9118 - val_loss: 0.1325 - val_accuracy: 0.9750\n",
      "Epoch 40/100\n",
      "4/4 [==============================] - 1s 230ms/step - loss: 0.1842 - accuracy: 0.9216 - val_loss: 0.1336 - val_accuracy: 0.9750\n",
      "Epoch 41/100\n",
      "4/4 [==============================] - 1s 177ms/step - loss: 0.2093 - accuracy: 0.9118 - val_loss: 0.1662 - val_accuracy: 0.9750\n",
      "Epoch 42/100\n",
      "4/4 [==============================] - 1s 182ms/step - loss: 0.1974 - accuracy: 0.9706 - val_loss: 0.1143 - val_accuracy: 0.9750\n",
      "Epoch 43/100\n",
      "4/4 [==============================] - 1s 168ms/step - loss: 0.1841 - accuracy: 0.9412 - val_loss: 0.2375 - val_accuracy: 0.9000\n",
      "Epoch 44/100\n",
      "4/4 [==============================] - 1s 192ms/step - loss: 0.1626 - accuracy: 0.9608 - val_loss: 0.0926 - val_accuracy: 0.9750\n",
      "Epoch 45/100\n",
      "4/4 [==============================] - 1s 224ms/step - loss: 0.1825 - accuracy: 0.9510 - val_loss: 0.1427 - val_accuracy: 0.9750\n",
      "Epoch 46/100\n",
      "4/4 [==============================] - 1s 163ms/step - loss: 0.1181 - accuracy: 0.9804 - val_loss: 0.1779 - val_accuracy: 0.9500\n",
      "Epoch 47/100\n",
      "4/4 [==============================] - 1s 165ms/step - loss: 0.1774 - accuracy: 0.9510 - val_loss: 0.0710 - val_accuracy: 0.9750\n",
      "Epoch 48/100\n",
      "4/4 [==============================] - 1s 180ms/step - loss: 0.2210 - accuracy: 0.9510 - val_loss: 0.1336 - val_accuracy: 0.9750\n",
      "Epoch 49/100\n",
      "4/4 [==============================] - 1s 176ms/step - loss: 0.0948 - accuracy: 0.9902 - val_loss: 0.0729 - val_accuracy: 1.0000\n",
      "Epoch 50/100\n",
      "4/4 [==============================] - 1s 176ms/step - loss: 0.1784 - accuracy: 0.9314 - val_loss: 0.0955 - val_accuracy: 0.9750\n",
      "Epoch 51/100\n",
      "4/4 [==============================] - 1s 203ms/step - loss: 0.1637 - accuracy: 0.9314 - val_loss: 0.1217 - val_accuracy: 0.9750\n",
      "Epoch 52/100\n",
      "4/4 [==============================] - 1s 187ms/step - loss: 0.1394 - accuracy: 0.9412 - val_loss: 0.0691 - val_accuracy: 1.0000\n",
      "Epoch 53/100\n",
      "4/4 [==============================] - 1s 206ms/step - loss: 0.1268 - accuracy: 0.9608 - val_loss: 0.0794 - val_accuracy: 0.9750\n",
      "Epoch 54/100\n",
      "4/4 [==============================] - 1s 165ms/step - loss: 0.1109 - accuracy: 0.9608 - val_loss: 0.0771 - val_accuracy: 0.9750\n",
      "Epoch 55/100\n",
      "4/4 [==============================] - 1s 232ms/step - loss: 0.0867 - accuracy: 0.9902 - val_loss: 0.0472 - val_accuracy: 1.0000\n",
      "Epoch 56/100\n",
      "4/4 [==============================] - 1s 156ms/step - loss: 0.1060 - accuracy: 0.9804 - val_loss: 0.0898 - val_accuracy: 1.0000\n",
      "Epoch 57/100\n",
      "4/4 [==============================] - 1s 211ms/step - loss: 0.1238 - accuracy: 0.9314 - val_loss: 0.0404 - val_accuracy: 1.0000\n",
      "Epoch 58/100\n",
      "4/4 [==============================] - 1s 170ms/step - loss: 0.1104 - accuracy: 0.9510 - val_loss: 0.0355 - val_accuracy: 1.0000\n"
     ]
    },
    {
     "name": "stdout",
     "output_type": "stream",
     "text": [
      "Epoch 59/100\n",
      "4/4 [==============================] - 1s 163ms/step - loss: 0.0993 - accuracy: 0.9706 - val_loss: 0.0620 - val_accuracy: 1.0000\n",
      "Epoch 60/100\n",
      "4/4 [==============================] - 1s 184ms/step - loss: 0.0842 - accuracy: 0.9804 - val_loss: 0.0347 - val_accuracy: 1.0000\n",
      "Epoch 61/100\n",
      "4/4 [==============================] - 1s 232ms/step - loss: 0.0823 - accuracy: 0.9706 - val_loss: 0.0560 - val_accuracy: 1.0000\n",
      "Epoch 62/100\n",
      "4/4 [==============================] - 1s 196ms/step - loss: 0.1199 - accuracy: 0.9510 - val_loss: 0.0559 - val_accuracy: 1.0000\n",
      "Epoch 63/100\n",
      "4/4 [==============================] - 1s 193ms/step - loss: 0.0601 - accuracy: 0.9902 - val_loss: 0.0302 - val_accuracy: 1.0000\n",
      "Epoch 64/100\n",
      "4/4 [==============================] - 1s 236ms/step - loss: 0.0831 - accuracy: 0.9804 - val_loss: 0.0583 - val_accuracy: 1.0000\n",
      "Epoch 65/100\n",
      "4/4 [==============================] - 1s 163ms/step - loss: 0.0951 - accuracy: 0.9608 - val_loss: 0.0385 - val_accuracy: 1.0000\n",
      "Epoch 66/100\n",
      "4/4 [==============================] - 1s 159ms/step - loss: 0.1211 - accuracy: 0.9804 - val_loss: 0.0312 - val_accuracy: 1.0000\n",
      "Epoch 67/100\n",
      "4/4 [==============================] - 1s 190ms/step - loss: 0.0928 - accuracy: 0.9608 - val_loss: 0.0793 - val_accuracy: 1.0000\n",
      "Epoch 68/100\n",
      "4/4 [==============================] - 1s 207ms/step - loss: 0.1024 - accuracy: 0.9706 - val_loss: 0.0287 - val_accuracy: 1.0000\n",
      "Epoch 69/100\n",
      "4/4 [==============================] - 1s 208ms/step - loss: 0.0766 - accuracy: 0.9902 - val_loss: 0.0345 - val_accuracy: 1.0000\n",
      "Epoch 70/100\n",
      "4/4 [==============================] - 1s 258ms/step - loss: 0.1461 - accuracy: 0.9314 - val_loss: 0.1720 - val_accuracy: 0.9500\n",
      "Epoch 71/100\n",
      "4/4 [==============================] - 1s 174ms/step - loss: 0.0931 - accuracy: 0.9608 - val_loss: 0.0574 - val_accuracy: 0.9750\n",
      "Epoch 72/100\n",
      "4/4 [==============================] - 1s 206ms/step - loss: 0.1378 - accuracy: 0.9706 - val_loss: 0.0424 - val_accuracy: 1.0000\n",
      "Epoch 73/100\n",
      "4/4 [==============================] - 1s 201ms/step - loss: 0.0692 - accuracy: 0.9804 - val_loss: 0.1806 - val_accuracy: 0.9000\n",
      "Epoch 74/100\n",
      "4/4 [==============================] - 1s 158ms/step - loss: 0.0966 - accuracy: 0.9608 - val_loss: 0.0494 - val_accuracy: 1.0000\n",
      "Epoch 75/100\n",
      "4/4 [==============================] - 1s 203ms/step - loss: 0.0970 - accuracy: 0.9608 - val_loss: 0.0721 - val_accuracy: 1.0000\n",
      "Epoch 76/100\n",
      "4/4 [==============================] - 1s 258ms/step - loss: 0.0411 - accuracy: 1.0000 - val_loss: 0.0306 - val_accuracy: 1.0000\n",
      "Epoch 77/100\n",
      "4/4 [==============================] - 1s 192ms/step - loss: 0.0638 - accuracy: 0.9902 - val_loss: 0.0260 - val_accuracy: 1.0000\n",
      "Epoch 78/100\n",
      "4/4 [==============================] - 1s 202ms/step - loss: 0.0490 - accuracy: 0.9902 - val_loss: 0.0297 - val_accuracy: 1.0000\n",
      "Epoch 79/100\n",
      "4/4 [==============================] - 1s 176ms/step - loss: 0.0327 - accuracy: 1.0000 - val_loss: 0.0249 - val_accuracy: 1.0000\n",
      "Epoch 80/100\n",
      "4/4 [==============================] - 1s 219ms/step - loss: 0.0377 - accuracy: 0.9902 - val_loss: 0.0245 - val_accuracy: 1.0000\n",
      "Epoch 81/100\n",
      "4/4 [==============================] - 1s 168ms/step - loss: 0.0611 - accuracy: 0.9902 - val_loss: 0.0586 - val_accuracy: 1.0000\n",
      "Epoch 82/100\n",
      "4/4 [==============================] - 1s 176ms/step - loss: 0.0448 - accuracy: 0.9902 - val_loss: 0.0297 - val_accuracy: 1.0000\n",
      "Epoch 83/100\n",
      "4/4 [==============================] - 1s 214ms/step - loss: 0.0376 - accuracy: 0.9902 - val_loss: 0.0238 - val_accuracy: 1.0000\n",
      "Epoch 84/100\n",
      "4/4 [==============================] - 1s 187ms/step - loss: 0.0278 - accuracy: 1.0000 - val_loss: 0.0313 - val_accuracy: 1.0000\n",
      "Epoch 85/100\n",
      "4/4 [==============================] - 1s 168ms/step - loss: 0.0398 - accuracy: 0.9804 - val_loss: 0.0247 - val_accuracy: 1.0000\n",
      "Epoch 86/100\n",
      "4/4 [==============================] - 1s 166ms/step - loss: 0.0565 - accuracy: 0.9804 - val_loss: 0.0289 - val_accuracy: 1.0000\n",
      "Epoch 87/100\n",
      "4/4 [==============================] - 1s 167ms/step - loss: 0.1034 - accuracy: 0.9412 - val_loss: 0.0644 - val_accuracy: 0.9750\n",
      "Epoch 88/100\n",
      "4/4 [==============================] - 1s 174ms/step - loss: 0.0598 - accuracy: 0.9804 - val_loss: 0.0825 - val_accuracy: 0.9750\n",
      "Epoch 89/100\n",
      "4/4 [==============================] - 1s 187ms/step - loss: 0.0610 - accuracy: 0.9706 - val_loss: 0.0206 - val_accuracy: 1.0000\n",
      "Epoch 90/100\n",
      "4/4 [==============================] - 1s 217ms/step - loss: 0.0584 - accuracy: 0.9804 - val_loss: 0.0445 - val_accuracy: 1.0000\n",
      "Epoch 91/100\n",
      "4/4 [==============================] - 1s 181ms/step - loss: 0.0323 - accuracy: 1.0000 - val_loss: 0.0167 - val_accuracy: 1.0000\n",
      "Epoch 92/100\n",
      "4/4 [==============================] - 1s 189ms/step - loss: 0.0424 - accuracy: 0.9902 - val_loss: 0.0167 - val_accuracy: 1.0000\n",
      "Epoch 93/100\n",
      "4/4 [==============================] - 1s 202ms/step - loss: 0.0275 - accuracy: 1.0000 - val_loss: 0.0336 - val_accuracy: 1.0000\n",
      "Epoch 94/100\n",
      "4/4 [==============================] - 1s 236ms/step - loss: 0.0529 - accuracy: 0.9804 - val_loss: 0.0208 - val_accuracy: 1.0000\n",
      "Epoch 95/100\n",
      "4/4 [==============================] - 1s 267ms/step - loss: 0.0551 - accuracy: 0.9902 - val_loss: 0.0163 - val_accuracy: 1.0000\n",
      "Epoch 96/100\n",
      "4/4 [==============================] - 1s 228ms/step - loss: 0.0242 - accuracy: 1.0000 - val_loss: 0.0184 - val_accuracy: 1.0000\n",
      "Epoch 97/100\n",
      "4/4 [==============================] - 1s 222ms/step - loss: 0.0384 - accuracy: 0.9902 - val_loss: 0.0166 - val_accuracy: 1.0000\n",
      "Epoch 98/100\n",
      "4/4 [==============================] - 1s 200ms/step - loss: 0.0197 - accuracy: 1.0000 - val_loss: 0.0119 - val_accuracy: 1.0000\n",
      "Epoch 99/100\n",
      "4/4 [==============================] - 1s 196ms/step - loss: 0.0202 - accuracy: 1.0000 - val_loss: 0.0162 - val_accuracy: 1.0000\n",
      "Epoch 100/100\n",
      "4/4 [==============================] - 1s 201ms/step - loss: 0.0309 - accuracy: 0.9902 - val_loss: 0.0230 - val_accuracy: 1.0000\n"
     ]
    },
    {
     "data": {
      "text/plain": [
       "<keras.callbacks.History at 0x131fcba9370>"
      ]
     },
     "execution_count": 12,
     "metadata": {},
     "output_type": "execute_result"
    }
   ],
   "source": [
    "model.fit_generator(x_train , steps_per_epoch = 4, epochs = 100, validation_data = x_test, validation_steps = 2)"
   ]
  },
  {
   "cell_type": "code",
   "execution_count": 13,
   "metadata": {},
   "outputs": [],
   "source": [
    "model.save(\"LungCancer.h5\")"
   ]
  }
 ],
 "metadata": {
  "kernelspec": {
   "display_name": "Python 3",
   "language": "python",
   "name": "python3"
  },
  "language_info": {
   "codemirror_mode": {
    "name": "ipython",
    "version": 3
   },
   "file_extension": ".py",
   "mimetype": "text/x-python",
   "name": "python",
   "nbconvert_exporter": "python",
   "pygments_lexer": "ipython3",
   "version": "3.8.5"
  }
 },
 "nbformat": 4,
 "nbformat_minor": 2
}
