{
 "cells": [
  {
   "cell_type": "code",
   "execution_count": 24,
   "metadata": {},
   "outputs": [
    {
     "name": "stdout",
     "output_type": "stream",
     "text": [
      "Requirement already satisfied: watson-machine-learning-client in f:\\anaconda.com\\lib\\site-packages (1.0.391)\n",
      "Requirement already satisfied: tabulate in f:\\anaconda.com\\lib\\site-packages (from watson-machine-learning-client) (0.8.9)\n",
      "Requirement already satisfied: certifi in f:\\anaconda.com\\lib\\site-packages (from watson-machine-learning-client) (2020.6.20)\n",
      "Requirement already satisfied: ibm-cos-sdk in f:\\anaconda.com\\lib\\site-packages (from watson-machine-learning-client) (2.7.0)\n",
      "Requirement already satisfied: boto3 in f:\\anaconda.com\\lib\\site-packages (from watson-machine-learning-client) (1.20.5)\n",
      "Requirement already satisfied: pandas in f:\\anaconda.com\\lib\\site-packages (from watson-machine-learning-client) (1.1.3)\n",
      "Requirement already satisfied: urllib3 in f:\\anaconda.com\\lib\\site-packages (from watson-machine-learning-client) (1.25.11)\n",
      "Requirement already satisfied: tqdm in f:\\anaconda.com\\lib\\site-packages (from watson-machine-learning-client) (4.50.2)\n",
      "Requirement already satisfied: lomond in f:\\anaconda.com\\lib\\site-packages (from watson-machine-learning-client) (0.3.3)\n",
      "Requirement already satisfied: requests in f:\\anaconda.com\\lib\\site-packages (from watson-machine-learning-client) (2.24.0)\n",
      "Requirement already satisfied: jmespath<1.0.0,>=0.7.1 in f:\\anaconda.com\\lib\\site-packages (from ibm-cos-sdk->watson-machine-learning-client) (0.10.0)\n",
      "Requirement already satisfied: ibm-cos-sdk-core==2.7.0 in f:\\anaconda.com\\lib\\site-packages (from ibm-cos-sdk->watson-machine-learning-client) (2.7.0)\n",
      "Requirement already satisfied: ibm-cos-sdk-s3transfer==2.7.0 in f:\\anaconda.com\\lib\\site-packages (from ibm-cos-sdk->watson-machine-learning-client) (2.7.0)\n",
      "Requirement already satisfied: botocore<1.24.0,>=1.23.5 in f:\\anaconda.com\\lib\\site-packages (from boto3->watson-machine-learning-client) (1.23.5)\n",
      "Requirement already satisfied: s3transfer<0.6.0,>=0.5.0 in f:\\anaconda.com\\lib\\site-packages (from boto3->watson-machine-learning-client) (0.5.0)\n",
      "Requirement already satisfied: numpy>=1.15.4 in f:\\anaconda.com\\lib\\site-packages (from pandas->watson-machine-learning-client) (1.19.2)\n",
      "Requirement already satisfied: python-dateutil>=2.7.3 in f:\\anaconda.com\\lib\\site-packages (from pandas->watson-machine-learning-client) (2.8.1)\n",
      "Requirement already satisfied: pytz>=2017.2 in f:\\anaconda.com\\lib\\site-packages (from pandas->watson-machine-learning-client) (2020.1)\n",
      "Requirement already satisfied: six>=1.10.0 in f:\\anaconda.com\\lib\\site-packages (from lomond->watson-machine-learning-client) (1.15.0)\n",
      "Requirement already satisfied: idna<3,>=2.5 in f:\\anaconda.com\\lib\\site-packages (from requests->watson-machine-learning-client) (2.10)\n",
      "Requirement already satisfied: chardet<4,>=3.0.2 in f:\\anaconda.com\\lib\\site-packages (from requests->watson-machine-learning-client) (3.0.4)\n",
      "Requirement already satisfied: docutils<0.16,>=0.10 in f:\\anaconda.com\\lib\\site-packages (from ibm-cos-sdk-core==2.7.0->ibm-cos-sdk->watson-machine-learning-client) (0.15.2)\n"
     ]
    }
   ],
   "source": [
    "!pip install watson-machine-learning-client"
   ]
  },
  {
   "cell_type": "code",
   "execution_count": 25,
   "metadata": {},
   "outputs": [],
   "source": [
    "from ibm_watson_machine_learning import APIClient\n",
    "wml_credentials={\n",
    "    \"url\":\"https://us-south.ml.cloud.ibm.com\",\n",
    "    \"apikey\":\"5MU7ejrCSoLSnGmiLR0UJX5kHGqhZbDPOgIB0gcwAWmV\"\n",
    "}\n",
    "client=APIClient(wml_credentials)"
   ]
  },
  {
   "cell_type": "code",
   "execution_count": 26,
   "metadata": {},
   "outputs": [],
   "source": [
    "client=APIClient(wml_credentials)"
   ]
  },
  {
   "cell_type": "code",
   "execution_count": 27,
   "metadata": {},
   "outputs": [],
   "source": [
    "def guid_from_space_name(client, space_name):\n",
    "    space=client.spaces.get_details()\n",
    "    #print(space)\n",
    "    return(next(item for item in space['resources'] if item['entity'][\"name\"]==space_name)['metadata']['id'])"
   ]
  },
  {
   "cell_type": "code",
   "execution_count": 28,
   "metadata": {},
   "outputs": [
    {
     "name": "stdout",
     "output_type": "stream",
     "text": [
      "Space UID=20ee6391-d8da-4537-90a3-a461e7a93726\n"
     ]
    }
   ],
   "source": [
    "space_uid=guid_from_space_name(client,'imageclassification')\n",
    "print(\"Space UID=\"+space_uid)"
   ]
  },
  {
   "cell_type": "code",
   "execution_count": 29,
   "metadata": {},
   "outputs": [
    {
     "data": {
      "text/plain": [
       "'SUCCESS'"
      ]
     },
     "execution_count": 29,
     "metadata": {},
     "output_type": "execute_result"
    }
   ],
   "source": [
    "client.set.default_space(space_uid)"
   ]
  },
  {
   "cell_type": "code",
   "execution_count": 30,
   "metadata": {},
   "outputs": [
    {
     "name": "stdout",
     "output_type": "stream",
     "text": [
      "-----------------------------  ------------------------------------  ----\n",
      "NAME                           ASSET_ID                              TYPE\n",
      "default_py3.6                  0062b8c9-8b7d-44a0-a9b9-46c416adcbd9  base\n",
      "pytorch-onnx_1.3-py3.7-edt     069ea134-3346-5748-b513-49120e15d288  base\n",
      "scikit-learn_0.20-py3.6        09c5a1d0-9c1e-4473-a344-eb7b665ff687  base\n",
      "spark-mllib_3.0-scala_2.12     09f4cff0-90a7-5899-b9ed-1ef348aebdee  base\n",
      "ai-function_0.1-py3.6          0cdb0f1e-5376-4f4d-92dd-da3b69aa9bda  base\n",
      "shiny-r3.6                     0e6e79df-875e-4f24-8ae9-62dcc2148306  base\n",
      "tensorflow_2.4-py3.7-horovod   1092590a-307d-563d-9b62-4eb7d64b3f22  base\n",
      "pytorch_1.1-py3.6              10ac12d6-6b30-4ccd-8392-3e922c096a92  base\n",
      "tensorflow_1.15-py3.6-ddl      111e41b3-de2d-5422-a4d6-bf776828c4b7  base\n",
      "scikit-learn_0.22-py3.6        154010fa-5b3b-4ac1-82af-4d5ee5abbc85  base\n",
      "default_r3.6                   1b70aec3-ab34-4b87-8aa0-a4a3c8296a36  base\n",
      "pytorch-onnx_1.3-py3.6         1bc6029a-cc97-56da-b8e0-39c3880dbbe7  base\n",
      "tensorflow_2.1-py3.6           1eb25b84-d6ed-5dde-b6a5-3fbdf1665666  base\n",
      "tensorflow_2.4-py3.8-horovod   217c16f6-178f-56bf-824a-b19f20564c49  base\n",
      "do_py3.8                       295addb5-9ef9-547e-9bf4-92ae3563e720  base\n",
      "autoai-ts_3.8-py3.8            2aa0c932-798f-5ae9-abd6-15e0c2402fb5  base\n",
      "tensorflow_1.15-py3.6          2b73a275-7cbf-420b-a912-eae7f436e0bc  base\n",
      "pytorch_1.2-py3.6              2c8ef57d-2687-4b7d-acce-01f94976dac1  base\n",
      "spark-mllib_2.3                2e51f700-bca0-4b0d-88dc-5c6791338875  base\n",
      "pytorch-onnx_1.1-py3.6-edt     32983cea-3f32-4400-8965-dde874a8d67e  base\n",
      "spark-mllib_3.0-py37           36507ebe-8770-55ba-ab2a-eafe787600e9  base\n",
      "spark-mllib_2.4                390d21f8-e58b-4fac-9c55-d7ceda621326  base\n",
      "xgboost_0.82-py3.6             39e31acd-5f30-41dc-ae44-60233c80306e  base\n",
      "pytorch-onnx_1.2-py3.6-edt     40589d0e-7019-4e28-8daa-fb03b6f4fe12  base\n",
      "autoai-obm_3.0                 42b92e18-d9ab-567f-988a-4240ba1ed5f7  base\n",
      "spark-mllib_2.4-r_3.6          49403dff-92e9-4c87-a3d7-a42d0021c095  base\n",
      "xgboost_0.90-py3.6             4ff8d6c2-1343-4c18-85e1-689c965304d3  base\n",
      "pytorch-onnx_1.1-py3.6         50f95b2a-bc16-43bb-bc94-b0bed208c60b  base\n",
      "autoai-ts_3.9-py3.8            52c57136-80fa-572e-8728-a5e7cbb42cde  base\n",
      "spark-mllib_2.4-scala_2.11     55a70f99-7320-4be5-9fb9-9edb5a443af5  base\n",
      "spark-mllib_3.0                5c1b0ca2-4977-5c2e-9439-ffd44ea8ffe9  base\n",
      "autoai-obm_2.0                 5c2e37fa-80b8-5e77-840f-d912469614ee  base\n",
      "spss-modeler_18.1              5c3cad7e-507f-4b2a-a9a3-ab53a21dee8b  base\n",
      "cuda-py3.8                     5d3232bf-c86b-5df4-a2cd-7bb870a1cd4e  base\n",
      "autoai-kb_3.1-py3.7            632d4b22-10aa-5180-88f0-f52dfb6444d7  base\n",
      "pytorch-onnx_1.7-py3.8         634d3cdc-b562-5bf9-a2d4-ea90a478456b  base\n",
      "spark-mllib_2.3-r_3.6          6586b9e3-ccd6-4f92-900f-0f8cb2bd6f0c  base\n",
      "tensorflow_2.4-py3.7           65e171d7-72d1-55d9-8ebb-f813d620c9bb  base\n",
      "spss-modeler_18.2              687eddc9-028a-4117-b9dd-e57b36f1efa5  base\n",
      "pytorch-onnx_1.2-py3.6         692a6a4d-2c4d-45ff-a1ed-b167ee55469a  base\n",
      "do_12.9                        75a3a4b0-6aa0-41b3-a618-48b1f56332a6  base\n",
      "spark-mllib_2.3-scala_2.11     7963efe5-bbec-417e-92cf-0574e21b4e8d  base\n",
      "spark-mllib_2.4-py37           7abc992b-b685-532b-a122-a396a3cdbaab  base\n",
      "caffe_1.0-py3.6                7bb3dbe2-da6e-4145-918d-b6d84aa93b6b  base\n",
      "pytorch-onnx_1.7-py3.7         812c6631-42b7-5613-982b-02098e6c909c  base\n",
      "cuda-py3.6                     82c79ece-4d12-40e6-8787-a7b9e0f62770  base\n",
      "tensorflow_1.15-py3.6-horovod  8964680e-d5e4-5bb8-919b-8342c6c0dfd8  base\n",
      "hybrid_0.1                     8c1a58c6-62b5-4dc4-987a-df751c2756b6  base\n",
      "pytorch-onnx_1.3-py3.7         8d5d8a87-a912-54cf-81ec-3914adaa988d  base\n",
      "caffe-ibm_1.0-py3.6            8d863266-7927-4d1e-97d7-56a7f4c0a19b  base\n",
      "-----------------------------  ------------------------------------  ----\n",
      "Note: Only first 50 records were displayed. To display more use 'limit' parameter.\n"
     ]
    }
   ],
   "source": [
    "client.software_specifications.list()"
   ]
  },
  {
   "cell_type": "code",
   "execution_count": null,
   "metadata": {},
   "outputs": [],
   "source": [
    "client.repository.download('833abd94-262f-4836-b631-72d520cec576','my_model8.tar.gz')"
   ]
  },
  {
   "cell_type": "code",
   "execution_count": null,
   "metadata": {},
   "outputs": [],
   "source": [
    "from tensorflow.keras.models import load_model\n",
    "from tensorflow.keras.preprocessing import image\n",
    "model = load_model('LungCancer.h5') #loading our trained model"
   ]
  },
  {
   "cell_type": "code",
   "execution_count": 23,
   "metadata": {},
   "outputs": [
    {
     "ename": "FileNotFoundError",
     "evalue": "[Errno 2] No such file or directory: 'noncancer.jpg'",
     "output_type": "error",
     "traceback": [
      "\u001b[1;31m---------------------------------------------------------------------------\u001b[0m",
      "\u001b[1;31mFileNotFoundError\u001b[0m                         Traceback (most recent call last)",
      "\u001b[1;32m<ipython-input-23-237f6ee1711f>\u001b[0m in \u001b[0;36m<module>\u001b[1;34m\u001b[0m\n\u001b[1;32m----> 1\u001b[1;33m \u001b[0mimg\u001b[0m\u001b[1;33m=\u001b[0m\u001b[0mimage\u001b[0m\u001b[1;33m.\u001b[0m\u001b[0mload_img\u001b[0m\u001b[1;33m(\u001b[0m\u001b[1;34m'noncancer.jpg'\u001b[0m\u001b[1;33m,\u001b[0m\u001b[0mtarget_size\u001b[0m\u001b[1;33m=\u001b[0m\u001b[1;33m(\u001b[0m\u001b[1;36m64\u001b[0m\u001b[1;33m,\u001b[0m\u001b[1;36m64\u001b[0m\u001b[1;33m)\u001b[0m\u001b[1;33m)\u001b[0m\u001b[1;31m#loading image\u001b[0m\u001b[1;33m\u001b[0m\u001b[1;33m\u001b[0m\u001b[0m\n\u001b[0m",
      "\u001b[1;32mF:\\anaconda.com\\lib\\site-packages\\keras\\preprocessing\\image.py\u001b[0m in \u001b[0;36mload_img\u001b[1;34m(path, grayscale, color_mode, target_size, interpolation)\u001b[0m\n\u001b[0;32m    311\u001b[0m       \u001b[0mValueError\u001b[0m\u001b[1;33m:\u001b[0m \u001b[1;32mif\u001b[0m \u001b[0minterpolation\u001b[0m \u001b[0mmethod\u001b[0m \u001b[1;32mis\u001b[0m \u001b[1;32mnot\u001b[0m \u001b[0msupported\u001b[0m\u001b[1;33m.\u001b[0m\u001b[1;33m\u001b[0m\u001b[1;33m\u001b[0m\u001b[0m\n\u001b[0;32m    312\u001b[0m   \"\"\"\n\u001b[1;32m--> 313\u001b[1;33m   return image.load_img(path, grayscale=grayscale, color_mode=color_mode,\n\u001b[0m\u001b[0;32m    314\u001b[0m                         target_size=target_size, interpolation=interpolation)\n\u001b[0;32m    315\u001b[0m \u001b[1;33m\u001b[0m\u001b[0m\n",
      "\u001b[1;32mF:\\anaconda.com\\lib\\site-packages\\keras_preprocessing\\image\\utils.py\u001b[0m in \u001b[0;36mload_img\u001b[1;34m(path, grayscale, color_mode, target_size, interpolation)\u001b[0m\n\u001b[0;32m    111\u001b[0m         raise ImportError('Could not import PIL.Image. '\n\u001b[0;32m    112\u001b[0m                           'The use of `load_img` requires PIL.')\n\u001b[1;32m--> 113\u001b[1;33m     \u001b[1;32mwith\u001b[0m \u001b[0mopen\u001b[0m\u001b[1;33m(\u001b[0m\u001b[0mpath\u001b[0m\u001b[1;33m,\u001b[0m \u001b[1;34m'rb'\u001b[0m\u001b[1;33m)\u001b[0m \u001b[1;32mas\u001b[0m \u001b[0mf\u001b[0m\u001b[1;33m:\u001b[0m\u001b[1;33m\u001b[0m\u001b[1;33m\u001b[0m\u001b[0m\n\u001b[0m\u001b[0;32m    114\u001b[0m         \u001b[0mimg\u001b[0m \u001b[1;33m=\u001b[0m \u001b[0mpil_image\u001b[0m\u001b[1;33m.\u001b[0m\u001b[0mopen\u001b[0m\u001b[1;33m(\u001b[0m\u001b[0mio\u001b[0m\u001b[1;33m.\u001b[0m\u001b[0mBytesIO\u001b[0m\u001b[1;33m(\u001b[0m\u001b[0mf\u001b[0m\u001b[1;33m.\u001b[0m\u001b[0mread\u001b[0m\u001b[1;33m(\u001b[0m\u001b[1;33m)\u001b[0m\u001b[1;33m)\u001b[0m\u001b[1;33m)\u001b[0m\u001b[1;33m\u001b[0m\u001b[1;33m\u001b[0m\u001b[0m\n\u001b[0;32m    115\u001b[0m         \u001b[1;32mif\u001b[0m \u001b[0mcolor_mode\u001b[0m \u001b[1;33m==\u001b[0m \u001b[1;34m'grayscale'\u001b[0m\u001b[1;33m:\u001b[0m\u001b[1;33m\u001b[0m\u001b[1;33m\u001b[0m\u001b[0m\n",
      "\u001b[1;31mFileNotFoundError\u001b[0m: [Errno 2] No such file or directory: 'noncancer.jpg'"
     ]
    }
   ],
   "source": [
    "img=image.load_img('noncancer.jpg',target_size=(64,64))#loading image"
   ]
  },
  {
   "cell_type": "code",
   "execution_count": 1,
   "metadata": {},
   "outputs": [],
   "source": [
    "from tensorflow.keras.models import Sequential\n",
    "from tensorflow.keras.layers import Dense\n",
    "from tensorflow.keras.layers import Convolution2D\n",
    "from tensorflow.keras.layers import MaxPooling2D\n",
    "from tensorflow.keras.layers import Flatten\n"
   ]
  },
  {
   "cell_type": "code",
   "execution_count": 2,
   "metadata": {},
   "outputs": [],
   "source": [
    "from keras.preprocessing.image import ImageDataGenerator\n",
    "train_datagen = ImageDataGenerator(rescale = 1./255,shear_range = 0.2,zoom_range = 0.2,horizontal_flip = True)\n",
    "test_datagen = ImageDataGenerator(rescale = 1./255)"
   ]
  },
  {
   "cell_type": "code",
   "execution_count": 3,
   "metadata": {},
   "outputs": [
    {
     "name": "stdout",
     "output_type": "stream",
     "text": [
      "Found 102 images belonging to 2 classes.\n",
      "Found 40 images belonging to 2 classes.\n"
     ]
    }
   ],
   "source": [
    "# applying Image data generator functionality to train and test set\n",
    "x_train = train_datagen.flow_from_directory(\n",
    "    r'C:\\Users\\DELL\\Desktop\\mini po\\final\\Lung-Cancer-Disease-Prediction-main\\Lungcancer\\trainset'\n",
    "    ,target_size = (64,64),batch_size = 32 ,\n",
    "    class_mode = 'binary',color_mode=\"grayscale\")\n",
    "x_test = test_datagen.flow_from_directory(\n",
    "    r'C:\\Users\\DELL\\Desktop\\mini po\\final\\Lung-Cancer-Disease-Prediction-main\\Lungcancer\\testset',\n",
    "    target_size = (64,64),batch_size = 32 , \n",
    "    class_mode = 'binary',color_mode=\"grayscale\")\n"
   ]
  },
  {
   "cell_type": "code",
   "execution_count": 4,
   "metadata": {},
   "outputs": [
    {
     "name": "stdout",
     "output_type": "stream",
     "text": [
      "{'Cancer': 0, 'NonCancer': 1}\n"
     ]
    }
   ],
   "source": [
    "print(x_train.class_indices)"
   ]
  },
  {
   "cell_type": "code",
   "execution_count": 5,
   "metadata": {},
   "outputs": [],
   "source": [
    "model = Sequential()"
   ]
  },
  {
   "cell_type": "code",
   "execution_count": 6,
   "metadata": {},
   "outputs": [],
   "source": [
    "model.add(Convolution2D(32,(3,3), input_shape = (64,64,1),activation = \"relu\"))"
   ]
  },
  {
   "cell_type": "code",
   "execution_count": 7,
   "metadata": {},
   "outputs": [],
   "source": [
    "model.add(MaxPooling2D(pool_size = (2,2)))"
   ]
  },
  {
   "cell_type": "code",
   "execution_count": 8,
   "metadata": {},
   "outputs": [],
   "source": [
    "model.add(Flatten()) # input layer"
   ]
  },
  {
   "cell_type": "code",
   "execution_count": 9,
   "metadata": {},
   "outputs": [],
   "source": [
    "model.add(Dense(units = 128,kernel_initializer = \"random_uniform\",activation = \"relu\")) #hidden layer"
   ]
  },
  {
   "cell_type": "code",
   "execution_count": 10,
   "metadata": {},
   "outputs": [],
   "source": [
    "model.add(Dense(units = 1,kernel_initializer = \"random_uniform\",activation = \"sigmoid\")) #output layer"
   ]
  },
  {
   "cell_type": "code",
   "execution_count": 11,
   "metadata": {},
   "outputs": [],
   "source": [
    "model.compile(loss = \"binary_crossentropy\",optimizer = \"adam\",metrics = [\"accuracy\"])"
   ]
  },
  {
   "cell_type": "code",
   "execution_count": 12,
   "metadata": {},
   "outputs": [
    {
     "name": "stderr",
     "output_type": "stream",
     "text": [
      "F:\\anaconda.com\\lib\\site-packages\\keras\\engine\\training.py:1972: UserWarning: `Model.fit_generator` is deprecated and will be removed in a future version. Please use `Model.fit`, which supports generators.\n",
      "  warnings.warn('`Model.fit_generator` is deprecated and '\n"
     ]
    },
    {
     "name": "stdout",
     "output_type": "stream",
     "text": [
      "Epoch 1/100\n",
      "4/4 [==============================] - 8s 1s/step - loss: 0.6700 - accuracy: 0.5392 - val_loss: 0.5992 - val_accuracy: 0.6000\n",
      "Epoch 2/100\n",
      "4/4 [==============================] - 1s 290ms/step - loss: 0.6271 - accuracy: 0.6373 - val_loss: 0.6529 - val_accuracy: 0.6750\n",
      "Epoch 3/100\n",
      "4/4 [==============================] - 1s 330ms/step - loss: 0.6377 - accuracy: 0.6667 - val_loss: 0.5528 - val_accuracy: 0.7000\n",
      "Epoch 4/100\n",
      "4/4 [==============================] - 1s 382ms/step - loss: 0.5651 - accuracy: 0.6667 - val_loss: 0.5392 - val_accuracy: 0.6750\n",
      "Epoch 5/100\n",
      "4/4 [==============================] - 1s 285ms/step - loss: 0.5331 - accuracy: 0.7059 - val_loss: 0.6039 - val_accuracy: 0.7500\n",
      "Epoch 6/100\n",
      "4/4 [==============================] - 2s 377ms/step - loss: 0.5349 - accuracy: 0.7451 - val_loss: 0.5514 - val_accuracy: 0.7750\n",
      "Epoch 7/100\n",
      "4/4 [==============================] - 1s 336ms/step - loss: 0.5119 - accuracy: 0.7157 - val_loss: 0.4724 - val_accuracy: 0.7250\n",
      "Epoch 8/100\n",
      "4/4 [==============================] - 1s 302ms/step - loss: 0.4769 - accuracy: 0.7941 - val_loss: 0.5031 - val_accuracy: 0.8000\n",
      "Epoch 9/100\n",
      "4/4 [==============================] - 1s 270ms/step - loss: 0.4691 - accuracy: 0.7549 - val_loss: 0.5700 - val_accuracy: 0.7750\n",
      "Epoch 10/100\n",
      "4/4 [==============================] - 1s 224ms/step - loss: 0.4310 - accuracy: 0.8137 - val_loss: 0.3646 - val_accuracy: 0.9000\n",
      "Epoch 11/100\n",
      "4/4 [==============================] - 1s 228ms/step - loss: 0.4666 - accuracy: 0.7451 - val_loss: 0.3891 - val_accuracy: 0.8250\n",
      "Epoch 12/100\n",
      "4/4 [==============================] - 1s 226ms/step - loss: 0.4921 - accuracy: 0.8137 - val_loss: 0.5220 - val_accuracy: 0.7500\n",
      "Epoch 13/100\n",
      "4/4 [==============================] - 1s 234ms/step - loss: 0.3906 - accuracy: 0.8235 - val_loss: 0.2998 - val_accuracy: 0.9250\n",
      "Epoch 14/100\n",
      "4/4 [==============================] - 1s 234ms/step - loss: 0.3902 - accuracy: 0.8333 - val_loss: 0.3729 - val_accuracy: 0.8750\n",
      "Epoch 15/100\n",
      "4/4 [==============================] - 1s 251ms/step - loss: 0.3544 - accuracy: 0.8333 - val_loss: 0.4276 - val_accuracy: 0.8500\n",
      "Epoch 16/100\n",
      "4/4 [==============================] - 1s 293ms/step - loss: 0.3423 - accuracy: 0.8039 - val_loss: 0.3381 - val_accuracy: 0.9250\n",
      "Epoch 17/100\n",
      "4/4 [==============================] - 1s 243ms/step - loss: 0.2917 - accuracy: 0.9118 - val_loss: 0.3684 - val_accuracy: 0.8750\n",
      "Epoch 18/100\n",
      "4/4 [==============================] - 1s 226ms/step - loss: 0.3356 - accuracy: 0.8529 - val_loss: 0.2678 - val_accuracy: 0.9000\n",
      "Epoch 19/100\n",
      "4/4 [==============================] - 1s 310ms/step - loss: 0.2771 - accuracy: 0.8922 - val_loss: 0.3670 - val_accuracy: 0.9000\n",
      "Epoch 20/100\n",
      "4/4 [==============================] - 1s 217ms/step - loss: 0.2791 - accuracy: 0.9216 - val_loss: 0.2234 - val_accuracy: 0.9000\n",
      "Epoch 21/100\n",
      "4/4 [==============================] - 1s 234ms/step - loss: 0.2534 - accuracy: 0.9216 - val_loss: 0.3743 - val_accuracy: 0.8750\n",
      "Epoch 22/100\n",
      "4/4 [==============================] - 1s 286ms/step - loss: 0.1860 - accuracy: 0.9804 - val_loss: 0.2383 - val_accuracy: 0.9250\n",
      "Epoch 23/100\n",
      "4/4 [==============================] - 1s 218ms/step - loss: 0.1961 - accuracy: 0.9216 - val_loss: 0.3699 - val_accuracy: 0.8750\n",
      "Epoch 24/100\n",
      "4/4 [==============================] - 1s 225ms/step - loss: 0.2348 - accuracy: 0.9314 - val_loss: 0.2133 - val_accuracy: 0.9000\n",
      "Epoch 25/100\n",
      "4/4 [==============================] - 1s 226ms/step - loss: 0.2108 - accuracy: 0.9020 - val_loss: 0.1689 - val_accuracy: 0.9500\n",
      "Epoch 26/100\n",
      "4/4 [==============================] - 1s 230ms/step - loss: 0.3120 - accuracy: 0.8529 - val_loss: 0.1980 - val_accuracy: 0.9250\n",
      "Epoch 27/100\n",
      "4/4 [==============================] - 1s 212ms/step - loss: 0.4225 - accuracy: 0.8039 - val_loss: 0.4371 - val_accuracy: 0.8500\n",
      "Epoch 28/100\n",
      "4/4 [==============================] - 1s 237ms/step - loss: 0.3142 - accuracy: 0.8333 - val_loss: 0.1661 - val_accuracy: 0.9500\n",
      "Epoch 29/100\n",
      "4/4 [==============================] - 1s 226ms/step - loss: 0.2230 - accuracy: 0.9216 - val_loss: 0.3040 - val_accuracy: 0.8750\n",
      "Epoch 30/100\n",
      "4/4 [==============================] - 1s 211ms/step - loss: 0.1964 - accuracy: 0.9118 - val_loss: 0.1376 - val_accuracy: 0.9500\n",
      "Epoch 31/100\n",
      "4/4 [==============================] - 1s 276ms/step - loss: 0.2196 - accuracy: 0.9118 - val_loss: 0.2092 - val_accuracy: 0.9250\n",
      "Epoch 32/100\n",
      "4/4 [==============================] - 1s 225ms/step - loss: 0.1551 - accuracy: 0.9314 - val_loss: 0.2008 - val_accuracy: 0.9250\n",
      "Epoch 33/100\n",
      "4/4 [==============================] - 1s 241ms/step - loss: 0.1641 - accuracy: 0.9608 - val_loss: 0.1478 - val_accuracy: 0.9250\n",
      "Epoch 34/100\n",
      "4/4 [==============================] - 1s 324ms/step - loss: 0.1522 - accuracy: 0.9706 - val_loss: 0.2030 - val_accuracy: 0.9250\n",
      "Epoch 35/100\n",
      "4/4 [==============================] - 1s 225ms/step - loss: 0.1635 - accuracy: 0.9608 - val_loss: 0.1691 - val_accuracy: 0.9250\n",
      "Epoch 36/100\n",
      "4/4 [==============================] - 1s 249ms/step - loss: 0.1897 - accuracy: 0.9118 - val_loss: 0.1461 - val_accuracy: 0.9500\n",
      "Epoch 37/100\n",
      "4/4 [==============================] - 1s 222ms/step - loss: 0.1369 - accuracy: 0.9510 - val_loss: 0.1289 - val_accuracy: 0.9750\n",
      "Epoch 38/100\n",
      "4/4 [==============================] - 1s 208ms/step - loss: 0.1105 - accuracy: 0.9804 - val_loss: 0.1537 - val_accuracy: 0.9500\n",
      "Epoch 39/100\n",
      "4/4 [==============================] - 1s 236ms/step - loss: 0.1297 - accuracy: 0.9706 - val_loss: 0.1002 - val_accuracy: 0.9500\n",
      "Epoch 40/100\n",
      "4/4 [==============================] - 1s 271ms/step - loss: 0.1355 - accuracy: 0.9608 - val_loss: 0.2143 - val_accuracy: 0.9250\n",
      "Epoch 41/100\n",
      "4/4 [==============================] - 1s 211ms/step - loss: 0.1486 - accuracy: 0.9412 - val_loss: 0.0899 - val_accuracy: 0.9750\n",
      "Epoch 42/100\n",
      "4/4 [==============================] - 1s 216ms/step - loss: 0.1095 - accuracy: 0.9804 - val_loss: 0.0742 - val_accuracy: 0.9750\n",
      "Epoch 43/100\n",
      "4/4 [==============================] - 1s 285ms/step - loss: 0.1144 - accuracy: 0.9804 - val_loss: 0.2099 - val_accuracy: 0.9250\n",
      "Epoch 44/100\n",
      "4/4 [==============================] - 1s 214ms/step - loss: 0.0987 - accuracy: 0.9706 - val_loss: 0.0632 - val_accuracy: 1.0000\n",
      "Epoch 45/100\n",
      "4/4 [==============================] - 1s 284ms/step - loss: 0.1661 - accuracy: 0.9412 - val_loss: 0.1347 - val_accuracy: 0.9500\n",
      "Epoch 46/100\n",
      "4/4 [==============================] - 1s 224ms/step - loss: 0.0782 - accuracy: 0.9902 - val_loss: 0.2221 - val_accuracy: 0.9250\n",
      "Epoch 47/100\n",
      "4/4 [==============================] - 1s 214ms/step - loss: 0.1164 - accuracy: 0.9608 - val_loss: 0.0630 - val_accuracy: 1.0000\n",
      "Epoch 48/100\n",
      "4/4 [==============================] - 1s 227ms/step - loss: 0.0988 - accuracy: 0.9706 - val_loss: 0.0978 - val_accuracy: 0.9500\n",
      "Epoch 49/100\n",
      "4/4 [==============================] - 1s 320ms/step - loss: 0.2044 - accuracy: 0.8627 - val_loss: 0.1653 - val_accuracy: 0.9500\n",
      "Epoch 50/100\n",
      "4/4 [==============================] - 1s 268ms/step - loss: 0.0786 - accuracy: 0.9804 - val_loss: 0.1150 - val_accuracy: 0.9500\n",
      "Epoch 51/100\n",
      "4/4 [==============================] - 1s 231ms/step - loss: 0.1370 - accuracy: 0.9510 - val_loss: 0.1108 - val_accuracy: 0.9750\n",
      "Epoch 52/100\n",
      "4/4 [==============================] - 1s 281ms/step - loss: 0.1804 - accuracy: 0.9118 - val_loss: 0.1940 - val_accuracy: 0.9500\n",
      "Epoch 53/100\n",
      "4/4 [==============================] - 1s 269ms/step - loss: 0.1052 - accuracy: 0.9706 - val_loss: 0.0642 - val_accuracy: 1.0000\n",
      "Epoch 54/100\n",
      "4/4 [==============================] - 1s 333ms/step - loss: 0.1635 - accuracy: 0.9118 - val_loss: 0.3137 - val_accuracy: 0.9000\n",
      "Epoch 55/100\n",
      "4/4 [==============================] - 1s 251ms/step - loss: 0.1380 - accuracy: 0.9412 - val_loss: 0.0748 - val_accuracy: 0.9750\n",
      "Epoch 56/100\n",
      "4/4 [==============================] - 1s 274ms/step - loss: 0.0975 - accuracy: 0.9902 - val_loss: 0.0428 - val_accuracy: 1.0000\n",
      "Epoch 57/100\n",
      "4/4 [==============================] - 1s 255ms/step - loss: 0.0662 - accuracy: 0.9804 - val_loss: 0.0523 - val_accuracy: 0.9750\n",
      "Epoch 58/100\n",
      "4/4 [==============================] - 1s 240ms/step - loss: 0.0874 - accuracy: 0.9608 - val_loss: 0.0371 - val_accuracy: 1.0000\n"
     ]
    },
    {
     "name": "stdout",
     "output_type": "stream",
     "text": [
      "Epoch 59/100\n",
      "4/4 [==============================] - 1s 234ms/step - loss: 0.0646 - accuracy: 0.9902 - val_loss: 0.0724 - val_accuracy: 0.9750\n",
      "Epoch 60/100\n",
      "4/4 [==============================] - 1s 230ms/step - loss: 0.1067 - accuracy: 0.9510 - val_loss: 0.0418 - val_accuracy: 1.0000\n",
      "Epoch 61/100\n",
      "4/4 [==============================] - 1s 244ms/step - loss: 0.0809 - accuracy: 0.9804 - val_loss: 0.0463 - val_accuracy: 1.0000\n",
      "Epoch 62/100\n",
      "4/4 [==============================] - 1s 220ms/step - loss: 0.0718 - accuracy: 0.9902 - val_loss: 0.0806 - val_accuracy: 0.9750\n",
      "Epoch 63/100\n",
      "4/4 [==============================] - 1s 220ms/step - loss: 0.0698 - accuracy: 0.9804 - val_loss: 0.0696 - val_accuracy: 0.9750\n",
      "Epoch 64/100\n",
      "4/4 [==============================] - 1s 221ms/step - loss: 0.0382 - accuracy: 1.0000 - val_loss: 0.0360 - val_accuracy: 1.0000\n",
      "Epoch 65/100\n",
      "4/4 [==============================] - 1s 227ms/step - loss: 0.0500 - accuracy: 1.0000 - val_loss: 0.0281 - val_accuracy: 1.0000\n",
      "Epoch 66/100\n",
      "4/4 [==============================] - 1s 252ms/step - loss: 0.0340 - accuracy: 1.0000 - val_loss: 0.0374 - val_accuracy: 1.0000\n",
      "Epoch 67/100\n",
      "4/4 [==============================] - 1s 233ms/step - loss: 0.0503 - accuracy: 0.9804 - val_loss: 0.0441 - val_accuracy: 1.0000\n",
      "Epoch 68/100\n",
      "4/4 [==============================] - 1s 236ms/step - loss: 0.0365 - accuracy: 0.9902 - val_loss: 0.0433 - val_accuracy: 1.0000\n",
      "Epoch 69/100\n",
      "4/4 [==============================] - 1s 308ms/step - loss: 0.0493 - accuracy: 1.0000 - val_loss: 0.0455 - val_accuracy: 0.9750\n",
      "Epoch 70/100\n",
      "4/4 [==============================] - 1s 240ms/step - loss: 0.0558 - accuracy: 0.9804 - val_loss: 0.0283 - val_accuracy: 1.0000\n",
      "Epoch 71/100\n",
      "4/4 [==============================] - 1s 243ms/step - loss: 0.0508 - accuracy: 0.9804 - val_loss: 0.0720 - val_accuracy: 0.9750\n",
      "Epoch 72/100\n",
      "4/4 [==============================] - 1s 248ms/step - loss: 0.0692 - accuracy: 0.9706 - val_loss: 0.0355 - val_accuracy: 1.0000\n",
      "Epoch 73/100\n",
      "4/4 [==============================] - 1s 262ms/step - loss: 0.0928 - accuracy: 0.9804 - val_loss: 0.0356 - val_accuracy: 1.0000\n",
      "Epoch 74/100\n",
      "4/4 [==============================] - 1s 242ms/step - loss: 0.0629 - accuracy: 0.9902 - val_loss: 0.1141 - val_accuracy: 0.9500\n",
      "Epoch 75/100\n",
      "4/4 [==============================] - 1s 229ms/step - loss: 0.0689 - accuracy: 0.9706 - val_loss: 0.0497 - val_accuracy: 0.9750\n",
      "Epoch 76/100\n",
      "4/4 [==============================] - 1s 238ms/step - loss: 0.0348 - accuracy: 0.9902 - val_loss: 0.0286 - val_accuracy: 1.0000\n",
      "Epoch 77/100\n",
      "4/4 [==============================] - 1s 231ms/step - loss: 0.0586 - accuracy: 0.9902 - val_loss: 0.0210 - val_accuracy: 1.0000\n",
      "Epoch 78/100\n",
      "4/4 [==============================] - 1s 227ms/step - loss: 0.0383 - accuracy: 1.0000 - val_loss: 0.0244 - val_accuracy: 1.0000\n",
      "Epoch 79/100\n",
      "4/4 [==============================] - 1s 293ms/step - loss: 0.0379 - accuracy: 1.0000 - val_loss: 0.0188 - val_accuracy: 1.0000\n",
      "Epoch 80/100\n",
      "4/4 [==============================] - 1s 312ms/step - loss: 0.0279 - accuracy: 1.0000 - val_loss: 0.0205 - val_accuracy: 1.0000\n",
      "Epoch 81/100\n",
      "4/4 [==============================] - 1s 309ms/step - loss: 0.0445 - accuracy: 0.9902 - val_loss: 0.0228 - val_accuracy: 1.0000\n",
      "Epoch 82/100\n",
      "4/4 [==============================] - 1s 301ms/step - loss: 0.0676 - accuracy: 0.9706 - val_loss: 0.0176 - val_accuracy: 1.0000\n",
      "Epoch 83/100\n",
      "4/4 [==============================] - 1s 244ms/step - loss: 0.0510 - accuracy: 0.9902 - val_loss: 0.0387 - val_accuracy: 1.0000\n",
      "Epoch 84/100\n",
      "4/4 [==============================] - 1s 279ms/step - loss: 0.0594 - accuracy: 0.9804 - val_loss: 0.0212 - val_accuracy: 1.0000\n",
      "Epoch 85/100\n",
      "4/4 [==============================] - 1s 228ms/step - loss: 0.0708 - accuracy: 0.9804 - val_loss: 0.0116 - val_accuracy: 1.0000\n",
      "Epoch 86/100\n",
      "4/4 [==============================] - 1s 238ms/step - loss: 0.0428 - accuracy: 0.9902 - val_loss: 0.0347 - val_accuracy: 1.0000\n",
      "Epoch 87/100\n",
      "4/4 [==============================] - 1s 264ms/step - loss: 0.0389 - accuracy: 0.9804 - val_loss: 0.0076 - val_accuracy: 1.0000\n",
      "Epoch 88/100\n",
      "4/4 [==============================] - 1s 264ms/step - loss: 0.0555 - accuracy: 0.9902 - val_loss: 0.0172 - val_accuracy: 1.0000\n",
      "Epoch 89/100\n",
      "4/4 [==============================] - 1s 240ms/step - loss: 0.0490 - accuracy: 0.9902 - val_loss: 0.1342 - val_accuracy: 0.9250\n",
      "Epoch 90/100\n",
      "4/4 [==============================] - 1s 233ms/step - loss: 0.1026 - accuracy: 0.9314 - val_loss: 0.0413 - val_accuracy: 1.0000\n",
      "Epoch 91/100\n",
      "4/4 [==============================] - 1s 239ms/step - loss: 0.1525 - accuracy: 0.9216 - val_loss: 0.0072 - val_accuracy: 1.0000\n",
      "Epoch 92/100\n",
      "4/4 [==============================] - 1s 218ms/step - loss: 0.0656 - accuracy: 0.9804 - val_loss: 0.0776 - val_accuracy: 0.9750\n",
      "Epoch 93/100\n",
      "4/4 [==============================] - 1s 231ms/step - loss: 0.0468 - accuracy: 0.9902 - val_loss: 0.0116 - val_accuracy: 1.0000\n",
      "Epoch 94/100\n",
      "4/4 [==============================] - 1s 260ms/step - loss: 0.0748 - accuracy: 0.9706 - val_loss: 0.0063 - val_accuracy: 1.0000\n",
      "Epoch 95/100\n",
      "4/4 [==============================] - 1s 232ms/step - loss: 0.0372 - accuracy: 0.9902 - val_loss: 0.1041 - val_accuracy: 0.9500\n",
      "Epoch 96/100\n",
      "4/4 [==============================] - 1s 240ms/step - loss: 0.0750 - accuracy: 0.9706 - val_loss: 0.0126 - val_accuracy: 1.0000\n",
      "Epoch 97/100\n",
      "4/4 [==============================] - 1s 274ms/step - loss: 0.0783 - accuracy: 0.9608 - val_loss: 0.0096 - val_accuracy: 1.0000\n",
      "Epoch 98/100\n",
      "4/4 [==============================] - 1s 291ms/step - loss: 0.0783 - accuracy: 0.9902 - val_loss: 0.0402 - val_accuracy: 0.9750\n",
      "Epoch 99/100\n",
      "4/4 [==============================] - 1s 288ms/step - loss: 0.1109 - accuracy: 0.9510 - val_loss: 0.0208 - val_accuracy: 1.0000\n",
      "Epoch 100/100\n",
      "4/4 [==============================] - 1s 238ms/step - loss: 0.0566 - accuracy: 0.9804 - val_loss: 0.0076 - val_accuracy: 1.0000\n"
     ]
    },
    {
     "data": {
      "text/plain": [
       "<keras.callbacks.History at 0x201679a7ca0>"
      ]
     },
     "execution_count": 12,
     "metadata": {},
     "output_type": "execute_result"
    }
   ],
   "source": [
    "model.fit_generator(x_train , steps_per_epoch = 4, epochs = 100, validation_data = x_test, validation_steps = 2)"
   ]
  },
  {
   "cell_type": "code",
   "execution_count": 13,
   "metadata": {},
   "outputs": [],
   "source": [
    "model.save(\"LungCancer.h5\")"
   ]
  }
 ],
 "metadata": {
  "kernelspec": {
   "display_name": "Python 3",
   "language": "python",
   "name": "python3"
  },
  "language_info": {
   "codemirror_mode": {
    "name": "ipython",
    "version": 3
   },
   "file_extension": ".py",
   "mimetype": "text/x-python",
   "name": "python",
   "nbconvert_exporter": "python",
   "pygments_lexer": "ipython3",
   "version": "3.8.5"
  }
 },
 "nbformat": 4,
 "nbformat_minor": 2
}
